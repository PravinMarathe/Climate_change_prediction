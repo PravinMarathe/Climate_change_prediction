{
 "cells": [
  {
   "cell_type": "code",
   "execution_count": 2,
   "id": "a388cb3d",
   "metadata": {},
   "outputs": [
    {
     "data": {
      "text/html": [
       "        <script type=\"text/javascript\">\n",
       "        window.PlotlyConfig = {MathJaxConfig: 'local'};\n",
       "        if (window.MathJax) {MathJax.Hub.Config({SVG: {font: \"STIX-Web\"}});}\n",
       "        if (typeof require !== 'undefined') {\n",
       "        require.undef(\"plotly\");\n",
       "        requirejs.config({\n",
       "            paths: {\n",
       "                'plotly': ['https://cdn.plot.ly/plotly-2.11.1.min']\n",
       "            }\n",
       "        });\n",
       "        require(['plotly'], function(Plotly) {\n",
       "            window._Plotly = Plotly;\n",
       "        });\n",
       "        }\n",
       "        </script>\n",
       "        "
      ]
     },
     "metadata": {},
     "output_type": "display_data"
    }
   ],
   "source": [
    "# import dependencies\n",
    "\n",
    "import pandas as pd\n",
    "import matplotlib.pyplot as plt\n",
    "%matplotlib inline\n",
    "import numpy as np\n",
    "from statsmodels.tsa.arima.model import ARIMA\n",
    "from statsmodels.tsa.stattools import adfuller\n",
    "from sklearn.metrics import mean_squared_error\n",
    "import warnings\n",
    "import random\n",
    "import plotly.graph_objs as go\n",
    "import plotly.express as px\n",
    "from plotly.offline import download_plotlyjs, init_notebook_mode, plot, iplot\n",
    "init_notebook_mode(connected=True)\n",
    "import plotly"
   ]
  },
  {
   "cell_type": "code",
   "execution_count": 3,
   "id": "4f30df94",
   "metadata": {
    "scrolled": true
   },
   "outputs": [
    {
     "data": {
      "text/plain": [
       "(20841, 11)"
      ]
     },
     "execution_count": 3,
     "metadata": {},
     "output_type": "execute_result"
    }
   ],
   "source": [
    "# grab our data from the csv file\n",
    "df = pd.read_csv('CO2_emissions.csv')\n",
    "df.shape"
   ]
  },
  {
   "cell_type": "code",
   "execution_count": 4,
   "id": "c85ebdf1",
   "metadata": {},
   "outputs": [
    {
     "data": {
      "text/html": [
       "<div>\n",
       "<style scoped>\n",
       "    .dataframe tbody tr th:only-of-type {\n",
       "        vertical-align: middle;\n",
       "    }\n",
       "\n",
       "    .dataframe tbody tr th {\n",
       "        vertical-align: top;\n",
       "    }\n",
       "\n",
       "    .dataframe thead th {\n",
       "        text-align: right;\n",
       "    }\n",
       "</style>\n",
       "<table border=\"1\" class=\"dataframe\">\n",
       "  <thead>\n",
       "    <tr style=\"text-align: right;\">\n",
       "      <th></th>\n",
       "      <th>iso_code</th>\n",
       "      <th>country</th>\n",
       "      <th>year</th>\n",
       "      <th>co2</th>\n",
       "      <th>co2_per_capita</th>\n",
       "      <th>co2_growth_prct</th>\n",
       "      <th>co2_growth_abs</th>\n",
       "      <th>cumulative_co2</th>\n",
       "      <th>share_global_co2</th>\n",
       "      <th>share_global_cumulative_co2</th>\n",
       "      <th>population</th>\n",
       "    </tr>\n",
       "  </thead>\n",
       "  <tbody>\n",
       "    <tr>\n",
       "      <th>4061</th>\n",
       "      <td>CHN</td>\n",
       "      <td>China</td>\n",
       "      <td>2020</td>\n",
       "      <td>10667.887</td>\n",
       "      <td>7.412</td>\n",
       "      <td>1.70</td>\n",
       "      <td>177.899</td>\n",
       "      <td>235564.013</td>\n",
       "      <td>30.65</td>\n",
       "      <td>13.89</td>\n",
       "      <td>1.439324e+09</td>\n",
       "    </tr>\n",
       "    <tr>\n",
       "      <th>20024</th>\n",
       "      <td>USA</td>\n",
       "      <td>United States</td>\n",
       "      <td>2020</td>\n",
       "      <td>4712.771</td>\n",
       "      <td>14.238</td>\n",
       "      <td>-10.33</td>\n",
       "      <td>-543.046</td>\n",
       "      <td>416723.089</td>\n",
       "      <td>13.54</td>\n",
       "      <td>24.56</td>\n",
       "      <td>3.310026e+08</td>\n",
       "    </tr>\n",
       "    <tr>\n",
       "      <th>8747</th>\n",
       "      <td>IND</td>\n",
       "      <td>India</td>\n",
       "      <td>2020</td>\n",
       "      <td>2441.792</td>\n",
       "      <td>1.769</td>\n",
       "      <td>-7.01</td>\n",
       "      <td>-184.176</td>\n",
       "      <td>54416.489</td>\n",
       "      <td>7.02</td>\n",
       "      <td>3.21</td>\n",
       "      <td>1.380004e+09</td>\n",
       "    </tr>\n",
       "    <tr>\n",
       "      <th>15368</th>\n",
       "      <td>RUS</td>\n",
       "      <td>Russia</td>\n",
       "      <td>2020</td>\n",
       "      <td>1577.136</td>\n",
       "      <td>10.807</td>\n",
       "      <td>-6.09</td>\n",
       "      <td>-102.313</td>\n",
       "      <td>115344.150</td>\n",
       "      <td>4.53</td>\n",
       "      <td>6.80</td>\n",
       "      <td>1.459345e+08</td>\n",
       "    </tr>\n",
       "    <tr>\n",
       "      <th>9669</th>\n",
       "      <td>JPN</td>\n",
       "      <td>Japan</td>\n",
       "      <td>2020</td>\n",
       "      <td>1030.775</td>\n",
       "      <td>8.150</td>\n",
       "      <td>-6.80</td>\n",
       "      <td>-75.154</td>\n",
       "      <td>65625.167</td>\n",
       "      <td>2.96</td>\n",
       "      <td>3.87</td>\n",
       "      <td>1.264765e+08</td>\n",
       "    </tr>\n",
       "    <tr>\n",
       "      <th>8990</th>\n",
       "      <td>IRN</td>\n",
       "      <td>Iran</td>\n",
       "      <td>2020</td>\n",
       "      <td>745.035</td>\n",
       "      <td>8.870</td>\n",
       "      <td>1.59</td>\n",
       "      <td>11.669</td>\n",
       "      <td>18914.439</td>\n",
       "      <td>2.14</td>\n",
       "      <td>1.11</td>\n",
       "      <td>8.399295e+07</td>\n",
       "    </tr>\n",
       "    <tr>\n",
       "      <th>7397</th>\n",
       "      <td>DEU</td>\n",
       "      <td>Germany</td>\n",
       "      <td>2020</td>\n",
       "      <td>644.310</td>\n",
       "      <td>7.690</td>\n",
       "      <td>-9.43</td>\n",
       "      <td>-67.117</td>\n",
       "      <td>92635.615</td>\n",
       "      <td>1.85</td>\n",
       "      <td>5.46</td>\n",
       "      <td>8.378394e+07</td>\n",
       "    </tr>\n",
       "    <tr>\n",
       "      <th>15957</th>\n",
       "      <td>SAU</td>\n",
       "      <td>Saudi Arabia</td>\n",
       "      <td>2020</td>\n",
       "      <td>625.508</td>\n",
       "      <td>17.967</td>\n",
       "      <td>0.50</td>\n",
       "      <td>3.095</td>\n",
       "      <td>15936.377</td>\n",
       "      <td>1.80</td>\n",
       "      <td>0.94</td>\n",
       "      <td>3.481387e+07</td>\n",
       "    </tr>\n",
       "    <tr>\n",
       "      <th>17114</th>\n",
       "      <td>KOR</td>\n",
       "      <td>South Korea</td>\n",
       "      <td>2020</td>\n",
       "      <td>597.605</td>\n",
       "      <td>11.656</td>\n",
       "      <td>-7.78</td>\n",
       "      <td>-50.420</td>\n",
       "      <td>18335.707</td>\n",
       "      <td>1.72</td>\n",
       "      <td>1.08</td>\n",
       "      <td>5.126918e+07</td>\n",
       "    </tr>\n",
       "    <tr>\n",
       "      <th>8879</th>\n",
       "      <td>IDN</td>\n",
       "      <td>Indonesia</td>\n",
       "      <td>2020</td>\n",
       "      <td>589.500</td>\n",
       "      <td>2.155</td>\n",
       "      <td>-10.76</td>\n",
       "      <td>-71.094</td>\n",
       "      <td>14399.960</td>\n",
       "      <td>1.69</td>\n",
       "      <td>0.85</td>\n",
       "      <td>2.735236e+08</td>\n",
       "    </tr>\n",
       "  </tbody>\n",
       "</table>\n",
       "</div>"
      ],
      "text/plain": [
       "      iso_code        country  year        co2  co2_per_capita  \\\n",
       "4061       CHN          China  2020  10667.887           7.412   \n",
       "20024      USA  United States  2020   4712.771          14.238   \n",
       "8747       IND          India  2020   2441.792           1.769   \n",
       "15368      RUS         Russia  2020   1577.136          10.807   \n",
       "9669       JPN          Japan  2020   1030.775           8.150   \n",
       "8990       IRN           Iran  2020    745.035           8.870   \n",
       "7397       DEU        Germany  2020    644.310           7.690   \n",
       "15957      SAU   Saudi Arabia  2020    625.508          17.967   \n",
       "17114      KOR    South Korea  2020    597.605          11.656   \n",
       "8879       IDN      Indonesia  2020    589.500           2.155   \n",
       "\n",
       "       co2_growth_prct  co2_growth_abs  cumulative_co2  share_global_co2  \\\n",
       "4061              1.70         177.899      235564.013             30.65   \n",
       "20024           -10.33        -543.046      416723.089             13.54   \n",
       "8747             -7.01        -184.176       54416.489              7.02   \n",
       "15368            -6.09        -102.313      115344.150              4.53   \n",
       "9669             -6.80         -75.154       65625.167              2.96   \n",
       "8990              1.59          11.669       18914.439              2.14   \n",
       "7397             -9.43         -67.117       92635.615              1.85   \n",
       "15957             0.50           3.095       15936.377              1.80   \n",
       "17114            -7.78         -50.420       18335.707              1.72   \n",
       "8879            -10.76         -71.094       14399.960              1.69   \n",
       "\n",
       "       share_global_cumulative_co2    population  \n",
       "4061                         13.89  1.439324e+09  \n",
       "20024                        24.56  3.310026e+08  \n",
       "8747                          3.21  1.380004e+09  \n",
       "15368                         6.80  1.459345e+08  \n",
       "9669                          3.87  1.264765e+08  \n",
       "8990                          1.11  8.399295e+07  \n",
       "7397                          5.46  8.378394e+07  \n",
       "15957                         0.94  3.481387e+07  \n",
       "17114                         1.08  5.126918e+07  \n",
       "8879                          0.85  2.735236e+08  "
      ]
     },
     "execution_count": 4,
     "metadata": {},
     "output_type": "execute_result"
    }
   ],
   "source": [
    "# To get an idea for which countries we should forecast, lets sort the countries in descending order with highest emission\n",
    "# totals for the year 2020 since it's the most recent\n",
    "\n",
    "df[df['year']==2020].sort_values(['co2'], ascending=False)[:10]"
   ]
  },
  {
   "cell_type": "code",
   "execution_count": 5,
   "id": "7031d34a",
   "metadata": {},
   "outputs": [
    {
     "data": {
      "text/plain": [
       "['China',\n",
       " 'United States',\n",
       " 'India',\n",
       " 'Russia',\n",
       " 'Japan',\n",
       " 'Iran',\n",
       " 'Germany',\n",
       " 'Saudi Arabia',\n",
       " 'South Korea',\n",
       " 'Indonesia']"
      ]
     },
     "execution_count": 5,
     "metadata": {},
     "output_type": "execute_result"
    }
   ],
   "source": [
    "# Create a list to store the countries we will forecast from 2020 until 2050. Here we are simply taking the countries with \n",
    "# the highest total CO2 emissions for the year 2020 since they will likely be the largest influences in future CO2 emissions\n",
    "country_list = list(df[df['year']==2020].sort_values(['co2'], ascending=False)[:10].country)\n",
    "country_list"
   ]
  },
  {
   "cell_type": "code",
   "execution_count": 8,
   "id": "00a51ada",
   "metadata": {},
   "outputs": [],
   "source": [
    "# function to get the difference order for the ARIMA-model\n",
    "\n",
    "# get_difference_order('str')\n",
    "def get_difference_order(country):\n",
    "    \n",
    "    # create new dataframe based on the one imported above and select only the data where country is equal to what\n",
    "    # is entered into the function (this must be a string). Grab what is relevent (year, co2), reset the index to the year,\n",
    "    df_n = df[df['country']== country]\n",
    "    df_n = pd.DataFrame(df_n[['year', 'co2']])\n",
    "    # removed 2020 since emissions were historically skewed due to COVID and confuses the model\n",
    "    df_n = df_n[df_n['year']!=2020]\n",
    "    df_n = df_n.set_index(['year'])\n",
    "    df_n = df_n.rename_axis(None, axis=1)\n",
    "    \n",
    "    # used to get test statistics of our dataset. Here, result[1] is the p-value statistic. We don't want this to be too high\n",
    "    # or too low (extremely low p-values actually produce more errors long term in our ARIMA model)\n",
    "    result = adfuller(df_n)\n",
    "    p_value = result[1]\n",
    "    \n",
    "    # set the difference order to 0\n",
    "    d=0\n",
    "    \n",
    "    # while the p-value from above is greater than the upper threshold, iterate\n",
    "    while p_value > 0.05:\n",
    "        \n",
    "        # take a difference and drop the null values\n",
    "        df_n = df_n.diff().dropna()\n",
    "        \n",
    "        # re-evaluate our p-value after differencing using Dicky-Fuller test like before (adfuller())\n",
    "        result = adfuller(df_n)\n",
    "        p_value = result[1]\n",
    "        \n",
    "        \n",
    "        # if the new p-value is below the bottom threshold, break the while loop\n",
    "        if p_value <5e-7:\n",
    "            break\n",
    "        \n",
    "        # else, add +1 to our difference order\n",
    "        else:\n",
    "            d+=1\n",
    "    \n",
    "    # return the difference order\n",
    "    return(d)"
   ]
  },
  {
   "cell_type": "code",
   "execution_count": 9,
   "id": "0392057b",
   "metadata": {},
   "outputs": [],
   "source": [
    "# create a function to find the optimal amount of autoregressive terms (p)\n",
    "\n",
    "# get_autogregressive_terms('str')\n",
    "def get_autoregressive_terms(country):\n",
    "    \n",
    "    # set an array of ar_terms to iterate through (here the max p value is 20)\n",
    "    ar_terms = list(range(0,21))\n",
    "    # AIC is a measure of how well fit the ARIMA model is. This is a list that we will use to find the p value that\n",
    "    # minimizes this metric\n",
    "    aic_values = []\n",
    "    \n",
    "    # get our difference order that was defined previously \n",
    "    d = get_difference_order(country)\n",
    "    # simply set q (moving average terms) to 1 for now. We will adjust later by optimizing the choice for this as well\n",
    "    q = 1\n",
    "    \n",
    "    # reassign our new dataframe just like before\n",
    "    df_n = df[df['country'] == country]\n",
    "    df_n = pd.DataFrame(df_n[['year','co2']])\n",
    "    # removed 2020 since emissions were historically skewed due to COVID and confuses the model\n",
    "    df_n = df_n[df_n['year']!=2020]\n",
    "    df_n = df_n.set_index(['year'])\n",
    "    df_n = df_n.rename_axis(None, axis=1)\n",
    "    \n",
    "    # iterate through our possible ar_terms, here we set the maximum number as 20 for computational sake\n",
    "    for p in range(len(ar_terms)):\n",
    "        # ignore warnings when fitting the model, otherwise it will clutter the output every iteration\n",
    "        warnings.filterwarnings(\"ignore\")\n",
    "        #define the model and specify the order (p,d,q)\n",
    "        model = ARIMA(df_n, order=(p,d,q))\n",
    "        # fit the model to the data in our dataframe\n",
    "        model_fit = model.fit()\n",
    "        # grab the AIC value associated with the current p value and store it in the respective list of AIC values\n",
    "        aic_values.append(model_fit.aic)\n",
    "    \n",
    "    # grab the minimum aic_value in our list of AIC values\n",
    "    min_aic = min(aic_values)\n",
    "    # since each index coincides with the p value (index[2]==p[2]) we can grab the index where the AIC value is the lowest\n",
    "    # and use that same index for p\n",
    "    p = ar_terms[aic_values.index(min_aic)]\n",
    "    \n",
    "    # return our autoregressive term order for use in other functions\n",
    "    return(p)"
   ]
  },
  {
   "cell_type": "code",
   "execution_count": 10,
   "id": "02f58e2f",
   "metadata": {},
   "outputs": [],
   "source": [
    "# create a function to find the optimal amount of moving average terms (q)\n",
    "\n",
    "# get_moving_avg_terms('str')\n",
    "def get_moving_avg_terms(country):\n",
    "    \n",
    "    # make a range of moving average terms from 1-10 (typically this value will never exceed ~3, but just to be safe)\n",
    "    ma_terms = list(range(1,10))\n",
    "    aic_values = []\n",
    "    \n",
    "    # get our autoregressive_terms and difference_order\n",
    "    p = get_autoregressive_terms(country)\n",
    "    d = get_difference_order(country)\n",
    "    \n",
    "    # reassign our new dataframe just like before\n",
    "    df_n = df[df['country'] == country]\n",
    "    df_n = pd.DataFrame(df_n[['year','co2']])\n",
    "    # removed 2020 since emissions were historically skewed due to COVID and confuses the model\n",
    "    df_n = df_n[df_n['year']!=2020]\n",
    "    df_n = df_n.set_index(['year'])\n",
    "    df_n = df_n.rename_axis(None, axis=1)\n",
    "    \n",
    "    # iterate through our possible ar_terms, here we set the maximum number as 20 for computational sake\n",
    "    for q in range(len(ma_terms)):\n",
    "        \n",
    "        # same logic as in get_autoregressive_terms()\n",
    "        warnings.filterwarnings(\"ignore\")\n",
    "        model = ARIMA(df_n, order=(p,d,q))\n",
    "        model_fit = model.fit()\n",
    "        aic_values.append(model_fit.aic)\n",
    "    \n",
    "    # same logic as in get_autoregressive_terms() \n",
    "    min_aic = min(aic_values)\n",
    "    q = ma_terms[aic_values.index(min_aic)]\n",
    "    \n",
    "    return(q)"
   ]
  },
  {
   "cell_type": "code",
   "execution_count": 13,
   "id": "b7eaefdc",
   "metadata": {},
   "outputs": [],
   "source": [
    "# This function is to test how well our model can predict the next value in our dataset. We are using a recursive ARIMA model\n",
    "# where the model makes it's prediction based on the history of past values, stores the prediction, adds the actual value \n",
    "# to the historical data, then refits the model and makes another prediction, etc. This effort makes the model a little more\n",
    "# robust and able to predict more accurately as it iterates more.\n",
    "\n",
    "# arima_test('str')\n",
    "def arima_test(country):\n",
    "    \n",
    "    # Call our p,d,q from the previously defined functions that minimize AIC values\n",
    "    p = get_autoregressive_terms(country)\n",
    "    d = get_difference_order(country)\n",
    "    q = get_moving_avg_terms(country)\n",
    "    \n",
    "    # reassign our new dataframe just like before\n",
    "    df_n = df[df['country'] == country]\n",
    "    df_n = pd.DataFrame(df_n[['year','co2']])\n",
    "    # removed 2020 since emissions were historically skewed due to COVID and confuses the model\n",
    "    df_n = df_n[df_n['year']!=2020]\n",
    "    df_n = df_n.set_index(['year'])\n",
    "    df_n = df_n.rename_axis(None, axis=1)\n",
    "    \n",
    "    # our CO2 emissions\n",
    "    X = df_n.values\n",
    "    \n",
    "    # selecting a testing size (70% train, 30% test)\n",
    "    size = int(len(X)*.75)\n",
    "    \n",
    "    # slices our original data into train,test sets\n",
    "    train, test = X[0:size], X[size:len(X)]\n",
    "    \n",
    "    # stores our past values, initialized to hold the training set\n",
    "    history = [x for x in train]\n",
    "    \n",
    "    # list to hold our model's predictions\n",
    "    predictions = list()\n",
    "    \n",
    "    # iterate through our test data\n",
    "    for t in range(len(test)):\n",
    "    \n",
    "        warnings.filterwarnings(\"ignore\")\n",
    "\n",
    "        # Fit the model to our initialzied data (training set) using (p,d,q) from the analysis above\n",
    "        model = ARIMA(history, order=(p,d,q))\n",
    "\n",
    "        # Fit the model\n",
    "        model_fit = model.fit()\n",
    "\n",
    "        # predict the next value based on the fitted model.\n",
    "        output = model_fit.forecast()\n",
    "        yhat = output[0]\n",
    "\n",
    "        # add the prediction to our list of predictions\n",
    "        predictions.append(yhat)\n",
    "        \n",
    "        obs = test[t]\n",
    "        history.append(obs)\n",
    "        \n",
    "    # calculate our root mean squared error   \n",
    "    rmse = np.sqrt(mean_squared_error(test, predictions))\n",
    "    \n",
    "    # a plot to visualize our ARIMA model vs. Actual for our test subset of the data\n",
    "    x = df_n.index[-len(test):].values\n",
    "    plt.figure(figsize=(10,6),dpi=100)\n",
    "    plt.plot(x, test, label='Actual')\n",
    "    plt.plot(x,predictions, color='r', linestyle='--',label='ARIMA model')\n",
    "    plt.title(f'Model Predictions vs Test ({country})')\n",
    "    plt.xlabel('Year')\n",
    "    plt.ylabel('CO2 Emissions')\n",
    "    plt.legend()\n",
    "    plt.grid()\n",
    "    plt.show()\n",
    "    # Show the RMSE to get an idea of how the model performs\n",
    "    print(\"RMSE: %.3f\" % rmse)"
   ]
  },
  {
   "cell_type": "code",
   "execution_count": 14,
   "id": "7c63d6ac",
   "metadata": {
    "scrolled": false
   },
   "outputs": [
    {
     "data": {
      "image/png": "[encoded data removed]",
      "text/plain": [
       "<Figure size 1000x600 with 1 Axes>"
      ]
     },
     "metadata": {
      "needs_background": "light"
     },
     "output_type": "display_data"
    },
    {
     "name": "stdout",
     "output_type": "stream",
     "text": [
      "RMSE: 149.324\n"
     ]
    }
   ],
   "source": [
    "arima_test('United States')"
   ]
  },
  {
   "cell_type": "code",
   "execution_count": 73,
   "id": "584b675d",
   "metadata": {},
   "outputs": [],
   "source": [
    "# set up a DataFrame for forecasted values\n",
    "forecast_df = pd.DataFrame()"
   ]
  },
  {
   "cell_type": "code",
   "execution_count": 74,
   "id": "232f0449",
   "metadata": {},
   "outputs": [],
   "source": [
    "# Define a function to forecast values. The methodology is mostly the same as the arima_test() function, with the addition\n",
    "# of residuals (bias) to help correct the model's predictive ability (without incorporating this bias the model will likely\n",
    "# try to plot linearly and sometimes quadratic 2nd order, which doesn't accurately capture the trends we are used to seeing)\n",
    "def arima_forecast(country, forecast):\n",
    "    \n",
    "    # Call our p,d,q from the previously defined functions that minimize AIC values\n",
    "    p = get_autoregressive_terms(country)\n",
    "    d = get_difference_order(country)\n",
    "    q = get_moving_avg_terms(country)\n",
    "    \n",
    "    \n",
    "    # reassign our new dataframe just like before\n",
    "    df_n = df[df['country'] == country]\n",
    "    df_n = pd.DataFrame(df_n[['year','co2']])\n",
    "    # removed 2020 since emissions were historically skewed due to COVID and confuses the model\n",
    "    df_n = df_n[df_n['year']!=2020]\n",
    "    df_n = df_n.set_index(['year'])\n",
    "    df_n = df_n.rename_axis(None, axis=1)\n",
    "    \n",
    "    # Same logic as in arima_test() except we are fitting the model to the entire set of historical data so we can forecast\n",
    "    # years into the future\n",
    "    history = df_n.values\n",
    "    predictions = list()\n",
    "    model = ARIMA(history, order=(p,d,q))\n",
    "    model_fit = model.fit()\n",
    "    \n",
    "    # grab the residuals (error) from the fit model using model_fit.resid. Store the mean and std to be used in our model's\n",
    "    # bias adjustment. Our residuals are normally distributed from the fit model, therefore the bias for future predictions\n",
    "    # should represent a normal distribution which is the motivation of sampling normal random variables with mean = mu and \n",
    "    # standard deviation = std. This offers some variability in our predictions to attempt to get closer to modeling how CO2\n",
    "    # emissions will proceed in the future. \n",
    "    \n",
    "    residuals = pd.DataFrame(model_fit.resid)\n",
    "    mu = residuals.describe()[0][1]\n",
    "    std = residuals.describe()[0][2]\n",
    "    bias = np.random.normal(mu,std,forecast)\n",
    "    \n",
    "    # same logic as in arima_test()\n",
    "    for t in range(forecast):\n",
    "        warnings.filterwarnings('ignore')\n",
    "        model = ARIMA(history, order=(p,d,q))\n",
    "        model_fit = model.fit()\n",
    "        \n",
    "        # this is where we incorporate the bias from the residuals of the fit model above. There is some choice in this as \n",
    "        # well. We could generate a larger amount of normally distributed variables and then sample a subset of the larger\n",
    "        # sample, but I'm not sure if this will help the model in a significant way\n",
    "        yhat = model_fit.forecast()[0] + bias[t]\n",
    "        predictions.append(yhat)\n",
    "        history = np.append(history,yhat)\n",
    "    \n",
    "    # grab the previous 30 years before forecasting, and the years that were forecasted as a list. This should be 1990-2050\n",
    "    years = list(range(df_n.index[-forecast],df_n.index[-1]+forecast+1))\n",
    "    # grab the co2 values 30 years before forecasting, and the years that were forecasted as a list\n",
    "    emissions = history[-forecast*2:]\n",
    "    \n",
    "    # add the country as a columns to the existing DataFrame where we set the years as the index, columns are countries,\n",
    "    # values are the co2 emissions (historical and forecasted)\n",
    "    forecast_df[country] = pd.DataFrame(emissions, index=years)"
   ]
  },
  {
   "cell_type": "code",
   "execution_count": 75,
   "id": "b6a3fc78",
   "metadata": {
    "scrolled": false
   },
   "outputs": [],
   "source": [
    "# iterate through the country_list at the top of this notebook (top 10 countries for co2 emissions in 2020) and perform\n",
    "# the arima_forecast() function on each country for the next 31 years (the choice for 31 was because we dropped 2020 from \n",
    "# the dataset since it skews the model due to historically low emissions for a lot of countries so we need to simulate\n",
    "# what the expected value would have been if there weren't extenuating circumstances)\n",
    "\n",
    "\n",
    "for country in country_list:\n",
    "    arima_forecast(country, 31)"
   ]
  },
  {
   "cell_type": "code",
   "execution_count": null,
   "id": "22213804",
   "metadata": {},
   "outputs": [],
   "source": []
  },
  {
   "cell_type": "code",
   "execution_count": null,
   "id": "4241476c",
   "metadata": {},
   "outputs": [],
   "source": []
  },
  {
   "cell_type": "code",
   "execution_count": null,
   "id": "6ded914f",
   "metadata": {},
   "outputs": [],
   "source": [
    "# For some reason the original export of the .csv of emissions_forecast had our forecasted values to 10 decimal places\n",
    "# The code below reads in the current emissions_forecast.csv and then formats to 3 decimal places, sets the axis to\n",
    "# years and re-exports the .csv to overwrite the old one. THIS CAN BE IGNORED NOW THAT IT HAS BEEN FIXED"
   ]
  },
  {
   "cell_type": "code",
   "execution_count": 106,
   "id": "b63b8bc3",
   "metadata": {},
   "outputs": [],
   "source": [
    "#forecast_df = pd.read_csv('emissions_forecast.csv')\n",
    "#for country in forecast_df.columns:\n",
    "    #forecast_df[country] = forecast_df[country].map('{:.3f}'.format)\n",
    "    #forecast_df[country] = forecast_df[country].astype(float)\n",
    "\n",
    "#forecast_df['Years'] = list(range(1989,2051))\n",
    "#forecast_df = forecast_df.set_index(['Years'])\n",
    "#forecast_df.to_csv('emissions_forecast.csv',index=True)"
   ]
  },
  {
   "cell_type": "code",
   "execution_count": 3,
   "id": "fb859a49",
   "metadata": {},
   "outputs": [
    {
     "data": {
      "text/html": [
       "<div>\n",
       "<style scoped>\n",
       "    .dataframe tbody tr th:only-of-type {\n",
       "        vertical-align: middle;\n",
       "    }\n",
       "\n",
       "    .dataframe tbody tr th {\n",
       "        vertical-align: top;\n",
       "    }\n",
       "\n",
       "    .dataframe thead th {\n",
       "        text-align: right;\n",
       "    }\n",
       "</style>\n",
       "<table border=\"1\" class=\"dataframe\">\n",
       "  <thead>\n",
       "    <tr style=\"text-align: right;\">\n",
       "      <th></th>\n",
       "      <th>China</th>\n",
       "      <th>United States</th>\n",
       "      <th>India</th>\n",
       "      <th>Russia</th>\n",
       "      <th>Japan</th>\n",
       "      <th>Iran</th>\n",
       "      <th>Germany</th>\n",
       "      <th>Saudi Arabia</th>\n",
       "      <th>South Korea</th>\n",
       "      <th>Indonesia</th>\n",
       "    </tr>\n",
       "    <tr>\n",
       "      <th>Years</th>\n",
       "      <th></th>\n",
       "      <th></th>\n",
       "      <th></th>\n",
       "      <th></th>\n",
       "      <th></th>\n",
       "      <th></th>\n",
       "      <th></th>\n",
       "      <th></th>\n",
       "      <th></th>\n",
       "      <th></th>\n",
       "    </tr>\n",
       "  </thead>\n",
       "  <tbody>\n",
       "    <tr>\n",
       "      <th>2046</th>\n",
       "      <td>17663.354</td>\n",
       "      <td>6108.557</td>\n",
       "      <td>7173.884</td>\n",
       "      <td>2293.333</td>\n",
       "      <td>858.285</td>\n",
       "      <td>1236.210</td>\n",
       "      <td>435.593</td>\n",
       "      <td>741.802</td>\n",
       "      <td>889.409</td>\n",
       "      <td>1491.294</td>\n",
       "    </tr>\n",
       "    <tr>\n",
       "      <th>2047</th>\n",
       "      <td>17854.949</td>\n",
       "      <td>6082.552</td>\n",
       "      <td>7431.317</td>\n",
       "      <td>2286.559</td>\n",
       "      <td>888.985</td>\n",
       "      <td>1254.004</td>\n",
       "      <td>459.755</td>\n",
       "      <td>719.891</td>\n",
       "      <td>905.348</td>\n",
       "      <td>1528.460</td>\n",
       "    </tr>\n",
       "    <tr>\n",
       "      <th>2048</th>\n",
       "      <td>17955.742</td>\n",
       "      <td>6142.493</td>\n",
       "      <td>7610.697</td>\n",
       "      <td>2293.282</td>\n",
       "      <td>834.699</td>\n",
       "      <td>1287.289</td>\n",
       "      <td>373.446</td>\n",
       "      <td>735.992</td>\n",
       "      <td>916.118</td>\n",
       "      <td>1574.825</td>\n",
       "    </tr>\n",
       "    <tr>\n",
       "      <th>2049</th>\n",
       "      <td>18092.829</td>\n",
       "      <td>6348.516</td>\n",
       "      <td>7876.342</td>\n",
       "      <td>2259.747</td>\n",
       "      <td>823.922</td>\n",
       "      <td>1305.547</td>\n",
       "      <td>442.041</td>\n",
       "      <td>794.923</td>\n",
       "      <td>923.589</td>\n",
       "      <td>1622.283</td>\n",
       "    </tr>\n",
       "    <tr>\n",
       "      <th>2050</th>\n",
       "      <td>18178.020</td>\n",
       "      <td>6243.529</td>\n",
       "      <td>8098.480</td>\n",
       "      <td>2267.276</td>\n",
       "      <td>786.362</td>\n",
       "      <td>1322.561</td>\n",
       "      <td>430.764</td>\n",
       "      <td>792.347</td>\n",
       "      <td>928.231</td>\n",
       "      <td>1652.055</td>\n",
       "    </tr>\n",
       "  </tbody>\n",
       "</table>\n",
       "</div>"
      ],
      "text/plain": [
       "           China  United States     India    Russia    Japan      Iran  \\\n",
       "Years                                                                    \n",
       "2046   17663.354       6108.557  7173.884  2293.333  858.285  1236.210   \n",
       "2047   17854.949       6082.552  7431.317  2286.559  888.985  1254.004   \n",
       "2048   17955.742       6142.493  7610.697  2293.282  834.699  1287.289   \n",
       "2049   18092.829       6348.516  7876.342  2259.747  823.922  1305.547   \n",
       "2050   18178.020       6243.529  8098.480  2267.276  786.362  1322.561   \n",
       "\n",
       "       Germany  Saudi Arabia  South Korea  Indonesia  \n",
       "Years                                                 \n",
       "2046   435.593       741.802      889.409   1491.294  \n",
       "2047   459.755       719.891      905.348   1528.460  \n",
       "2048   373.446       735.992      916.118   1574.825  \n",
       "2049   442.041       794.923      923.589   1622.283  \n",
       "2050   430.764       792.347      928.231   1652.055  "
      ]
     },
     "execution_count": 3,
     "metadata": {},
     "output_type": "execute_result"
    }
   ],
   "source": [
    "# Read in the corrected emissions_forecast.csv file and make sure it was formattted correctly (3 decimal places)\n",
    "df = pd.read_csv('emissions_forecast.csv')\n",
    "df.set_index(['Years'],inplace=True)\n",
    "df.tail()"
   ]
  },
  {
   "cell_type": "code",
   "execution_count": 11,
   "id": "0af9dc27",
   "metadata": {
    "scrolled": false
   },
   "outputs": [
    {
     "data": {
      "application/vnd.plotly.v1+json": {
       "config": {
        "plotlyServerURL": "https://plot.ly"
       },
       "data": [
        {
         "line": {
          "color": "#DE2910",
          "width": 1.5
         },
         "marker": {
          "color": "#FFDE00",
          "line": {
           "color": "#DE2910",
           "width": 1.2
          },
          "size": 6.5
         },
         "mode": "lines+markers",
         "name": "China",
         "type": "scatter",
         "x": [
          1989,
          1990,
          1991,
          1992,
          1993,
          1994,
          1995,
          1996,
          1997,
          1998,
          1999,
          2000,
          2001,
          2002,
          2003,
          2004,
          2005,
          2006,
          2007,
          2008,
          2009,
          2010,
          2011,
          2012,
          2013,
          2014,
          2015,
          2016,
          2017,
          2018,
          2019,
          2020,
          2021,
          2022,
          2023,
          2024,
          2025,
          2026,
          2027,
          2028,
          2029,
          2030,
          2031,
          2032,
          2033,
          2034,
          2035,
          2036,
          2037,
          2038,
          2039,
          2040,
          2041,
          2042,
          2043,
          2044,
          2045,
          2046,
          2047,
          2048,
          2049,
          2050
         ],
         "y": [
          2463.654,
          2484.855,
          2606.096,
          2730.788,
          2921.651,
          3100.002,
          3357.909,
          3503.234,
          3510.169,
          3360.455,
          3350.34,
          3439.152,
          3514.934,
          3872.595,
          4545.014,
          5223.755,
          5876.555,
          6488.804,
          6978.612,
          7496.832,
          7886.533,
          8616.653,
          9528.556,
          9775.622,
          9952.744,
          9985.583,
          9848.42,
          9720.444,
          9920.459,
          10289.99,
          10489.989,
          10587.943,
          10655.106,
          10668.184,
          10819.353,
          11200.517,
          11846.416,
          12604.15,
          13402.092,
          13987.479,
          14328.106,
          14419.9,
          14303.101,
          14450.731,
          14653.754,
          14756.313,
          15005.77,
          15053.737,
          14962.321,
          14834.002,
          14916.531,
          15215.375,
          15696.903,
          16198.824,
          16744.713,
          17211.915,
          17446.61,
          17663.354,
          17854.949,
          17955.742,
          18092.829,
          18178.02
         ]
        },
        {
         "line": {
          "color": "#3C3B6E",
          "width": 1.5
         },
         "marker": {
          "color": "#FFFFFF",
          "line": {
           "color": "#B22234",
           "width": 1.2
          },
          "size": 6.5
         },
         "mode": "lines+markers",
         "name": "United States",
         "type": "scatter",
         "x": [
          1989,
          1990,
          1991,
          1992,
          1993,
          1994,
          1995,
          1996,
          1997,
          1998,
          1999,
          2000,
          2001,
          2002,
          2003,
          2004,
          2005,
          2006,
          2007,
          2008,
          2009,
          2010,
          2011,
          2012,
          2013,
          2014,
          2015,
          2016,
          2017,
          2018,
          2019,
          2020,
          2021,
          2022,
          2023,
          2024,
          2025,
          2026,
          2027,
          2028,
          2029,
          2030,
          2031,
          2032,
          2033,
          2034,
          2035,
          2036,
          2037,
          2038,
          2039,
          2040,
          2041,
          2042,
          2043,
          2044,
          2045,
          2046,
          2047,
          2048,
          2049,
          2050
         ],
         "y": [
          5131.927,
          5113.455,
          5057.931,
          5167.481,
          5267.343,
          5358.824,
          5421.502,
          5610.582,
          5686.465,
          5731.05,
          5804.669,
          6010.508,
          5904.882,
          5946.771,
          6011.837,
          6114.007,
          6134.521,
          6051.668,
          6131.004,
          5914.078,
          5478.21,
          5675.786,
          5540.173,
          5338.698,
          5474.257,
          5522.807,
          5371.771,
          5248.024,
          5207.751,
          5375.491,
          5255.816,
          5318.872,
          5562.984,
          5507.074,
          5439.723,
          5571.055,
          5606.167,
          5527.071,
          5701.259,
          5780.852,
          5861.928,
          5779.052,
          5811.066,
          5841.971,
          5801.997,
          6043.658,
          6137.169,
          6267.615,
          6414.705,
          6448.096,
          6296.348,
          6374.812,
          6296.014,
          6273.002,
          6284.679,
          6149.345,
          6118.7,
          6108.557,
          6082.552,
          6142.493,
          6348.516,
          6243.529
         ]
        },
        {
         "line": {
          "color": "#FF9933",
          "width": 1.5
         },
         "marker": {
          "color": "#FFFFFF",
          "line": {
           "color": "#138808",
           "width": 1.2
          },
          "size": 6.5
         },
         "mode": "lines+markers",
         "name": "India",
         "type": "scatter",
         "x": [
          1989,
          1990,
          1991,
          1992,
          1993,
          1994,
          1995,
          1996,
          1997,
          1998,
          1999,
          2000,
          2001,
          2002,
          2003,
          2004,
          2005,
          2006,
          2007,
          2008,
          2009,
          2010,
          2011,
          2012,
          2013,
          2014,
          2015,
          2016,
          2017,
          2018,
          2019,
          2020,
          2021,
          2022,
          2023,
          2024,
          2025,
          2026,
          2027,
          2028,
          2029,
          2030,
          2031,
          2032,
          2033,
          2034,
          2035,
          2036,
          2037,
          2038,
          2039,
          2040,
          2041,
          2042,
          2043,
          2044,
          2045,
          2046,
          2047,
          2048,
          2049,
          2050
         ],
         "y": [
          541.135,
          578.518,
          615.925,
          656.033,
          677.916,
          716.918,
          762.121,
          825.919,
          859.686,
          877.698,
          951.749,
          978.919,
          992.56,
          1023.027,
          1059.616,
          1125.471,
          1185.953,
          1259.744,
          1358.152,
          1462.815,
          1612.817,
          1677.888,
          1780.13,
          1963.586,
          2036.937,
          2185.856,
          2268.567,
          2382.223,
          2433.856,
          2599.806,
          2625.968,
          2723.482,
          2795.146,
          2973.66,
          2998.517,
          3183.154,
          3270.293,
          3436.798,
          3588.01,
          3782.994,
          3888.056,
          4121.075,
          4293.535,
          4501.924,
          4653.707,
          4882.021,
          5058.278,
          5240.265,
          5441.087,
          5616.45,
          5787.595,
          6009.493,
          6194.683,
          6357.145,
          6594.366,
          6775.949,
          6993.431,
          7173.884,
          7431.317,
          7610.697,
          7876.342,
          8098.48
         ]
        },
        {
         "line": {
          "color": "#DA291C",
          "width": 1.5
         },
         "marker": {
          "color": "#FFFFFF",
          "line": {
           "color": "#0033A0",
           "width": 1.2
          },
          "size": 6.5
         },
         "mode": "lines+markers",
         "name": "Russia",
         "type": "scatter",
         "x": [
          1989,
          1990,
          1991,
          1992,
          1993,
          1994,
          1995,
          1996,
          1997,
          1998,
          1999,
          2000,
          2001,
          2002,
          2003,
          2004,
          2005,
          2006,
          2007,
          2008,
          2009,
          2010,
          2011,
          2012,
          2013,
          2014,
          2015,
          2016,
          2017,
          2018,
          2019,
          2020,
          2021,
          2022,
          2023,
          2024,
          2025,
          2026,
          2027,
          2028,
          2029,
          2030,
          2031,
          2032,
          2033,
          2034,
          2035,
          2036,
          2037,
          2038,
          2039,
          2040,
          2041,
          2042,
          2043,
          2044,
          2045,
          2046,
          2047,
          2048,
          2049,
          2050
         ],
         "y": [
          2400.308,
          2525.518,
          2396.205,
          1957.886,
          1859.679,
          1641.616,
          1613.141,
          1580.376,
          1475.36,
          1458.368,
          1486.301,
          1471.259,
          1507.707,
          1495.694,
          1525.607,
          1530.694,
          1547.599,
          1606.542,
          1604.549,
          1636.923,
          1528.961,
          1613.113,
          1665.207,
          1680.104,
          1619.42,
          1622.589,
          1623.1,
          1618.599,
          1646.457,
          1691.647,
          1679.449,
          1751.248,
          1853.96,
          1878.862,
          2013.566,
          2037.372,
          2131.909,
          2200.238,
          2272.901,
          2255.781,
          2249.462,
          2204.847,
          2214.066,
          2269.21,
          2323.923,
          2360.973,
          2441.596,
          2548.667,
          2627.636,
          2701.045,
          2618.481,
          2575.676,
          2531.046,
          2516.207,
          2424.916,
          2349.317,
          2300.666,
          2293.333,
          2286.559,
          2293.282,
          2259.747,
          2267.276
         ]
        },
        {
         "line": {
          "color": "#BC002D",
          "width": 1.5
         },
         "marker": {
          "color": "#FFFFFF",
          "line": {
           "color": "#BC002D",
           "width": 1.2
          },
          "size": 6.5
         },
         "mode": "lines+markers",
         "name": "Japan",
         "type": "scatter",
         "x": [
          1989,
          1990,
          1991,
          1992,
          1993,
          1994,
          1995,
          1996,
          1997,
          1998,
          1999,
          2000,
          2001,
          2002,
          2003,
          2004,
          2005,
          2006,
          2007,
          2008,
          2009,
          2010,
          2011,
          2012,
          2013,
          2014,
          2015,
          2016,
          2017,
          2018,
          2019,
          2020,
          2021,
          2022,
          2023,
          2024,
          2025,
          2026,
          2027,
          2028,
          2029,
          2030,
          2031,
          2032,
          2033,
          2034,
          2035,
          2036,
          2037,
          2038,
          2039,
          2040,
          2041,
          2042,
          2043,
          2044,
          2045,
          2046,
          2047,
          2048,
          2049,
          2050
         ],
         "y": [
          1021.682,
          1158.007,
          1169.692,
          1179.396,
          1172.339,
          1227.273,
          1239.62,
          1251.531,
          1244.781,
          1204.993,
          1241.611,
          1264.375,
          1249.766,
          1279.12,
          1287.468,
          1282.862,
          1290.371,
          1267.362,
          1303.134,
          1232.314,
          1163.213,
          1214.816,
          1264.866,
          1306.01,
          1315.343,
          1263.729,
          1223.396,
          1203.718,
          1188.123,
          1143.458,
          1105.929,
          1129.603,
          1168.221,
          1160.305,
          1084.463,
          1069.35,
          1028.748,
          1011.635,
          1028.075,
          986.062,
          987.298,
          985.28,
          1010.504,
          1004.877,
          987.68,
          1029.139,
          1020.772,
          1055.859,
          1113.741,
          1108.448,
          1109.447,
          1086.434,
          1043.137,
          961.394,
          924.551,
          870.786,
          828.546,
          858.285,
          888.985,
          834.699,
          823.922,
          786.362
         ]
        },
        {
         "line": {
          "color": "#239F40",
          "width": 1.5
         },
         "marker": {
          "color": "#FFFFFF",
          "line": {
           "color": "#DA0000",
           "width": 1.2
          },
          "size": 6.5
         },
         "mode": "lines+markers",
         "name": "Iran",
         "type": "scatter",
         "x": [
          1989,
          1990,
          1991,
          1992,
          1993,
          1994,
          1995,
          1996,
          1997,
          1998,
          1999,
          2000,
          2001,
          2002,
          2003,
          2004,
          2005,
          2006,
          2007,
          2008,
          2009,
          2010,
          2011,
          2012,
          2013,
          2014,
          2015,
          2016,
          2017,
          2018,
          2019,
          2020,
          2021,
          2022,
          2023,
          2024,
          2025,
          2026,
          2027,
          2028,
          2029,
          2030,
          2031,
          2032,
          2033,
          2034,
          2035,
          2036,
          2037,
          2038,
          2039,
          2040,
          2041,
          2042,
          2043,
          2044,
          2045,
          2046,
          2047,
          2048,
          2049,
          2050
         ],
         "y": [
          190.198,
          209.944,
          226.011,
          226.935,
          235.607,
          263.82,
          271.582,
          273.769,
          267.046,
          305.503,
          379.501,
          369.15,
          394.759,
          397.625,
          413.665,
          441.947,
          463.499,
          503.636,
          512.66,
          534.644,
          559.025,
          569.772,
          577.336,
          602.738,
          610.21,
          641.842,
          628.626,
          637.362,
          712.256,
          707.157,
          733.366,
          744.736,
          777.263,
          787.651,
          823.377,
          858.385,
          863.365,
          892.868,
          916.316,
          947.138,
          974.768,
          971.557,
          1007.208,
          1012.693,
          1010.124,
          1019.281,
          1041.341,
          1065.846,
          1078.473,
          1081.098,
          1121.134,
          1143.805,
          1166.21,
          1178.686,
          1192.162,
          1200.541,
          1206.385,
          1236.21,
          1254.004,
          1287.289,
          1305.547,
          1322.561
         ]
        },
        {
         "line": {
          "color": "#000000",
          "width": 1.5
         },
         "marker": {
          "color": "#FFCE00",
          "line": {
           "color": "#DD0000",
           "width": 1.2
          },
          "size": 6.5
         },
         "mode": "lines+markers",
         "name": "Germany",
         "type": "scatter",
         "x": [
          1989,
          1990,
          1991,
          1992,
          1993,
          1994,
          1995,
          1996,
          1997,
          1998,
          1999,
          2000,
          2001,
          2002,
          2003,
          2004,
          2005,
          2006,
          2007,
          2008,
          2009,
          2010,
          2011,
          2012,
          2013,
          2014,
          2015,
          2016,
          2017,
          2018,
          2019,
          2020,
          2021,
          2022,
          2023,
          2024,
          2025,
          2026,
          2027,
          2028,
          2029,
          2030,
          2031,
          2032,
          2033,
          2034,
          2035,
          2036,
          2037,
          2038,
          2039,
          2040,
          2041,
          2042,
          2043,
          2044,
          2045,
          2046,
          2047,
          2048,
          2049,
          2050
         ],
         "y": [
          1008.792,
          1052.477,
          1014.225,
          965.893,
          956.132,
          939.815,
          938.968,
          959.151,
          931.324,
          923.357,
          895.874,
          899.852,
          916.649,
          899.971,
          901.152,
          887.089,
          866.697,
          878.32,
          851.624,
          854.927,
          790.295,
          832.949,
          809.217,
          813.985,
          831.454,
          792.588,
          795.61,
          800.687,
          785.883,
          754.112,
          711.428,
          752.242,
          749.56,
          761.979,
          698.036,
          632.121,
          586.666,
          604.424,
          607.103,
          601.956,
          612.848,
          534.778,
          562.142,
          577.173,
          592.009,
          501.785,
          503.997,
          491.509,
          541.787,
          573.165,
          528.674,
          499.337,
          479.361,
          512.737,
          454.666,
          421.21,
          445.568,
          435.593,
          459.755,
          373.446,
          442.041,
          430.764
         ]
        }
       ],
       "layout": {
        "autosize": true,
        "font": {
         "family": "Times New Roman",
         "size": 14
        },
        "height": 800,
        "legend": {
         "title": {
          "side": "top",
          "text": "Countries"
         }
        },
        "template": {
         "data": {
          "bar": [
           {
            "error_x": {
             "color": "rgb(36,36,36)"
            },
            "error_y": {
             "color": "rgb(36,36,36)"
            },
            "marker": {
             "line": {
              "color": "rgb(234,234,242)",
              "width": 0.5
             },
             "pattern": {
              "fillmode": "overlay",
              "size": 10,
              "solidity": 0.2
             }
            },
            "type": "bar"
           }
          ],
          "barpolar": [
           {
            "marker": {
             "line": {
              "color": "rgb(234,234,242)",
              "width": 0.5
             },
             "pattern": {
              "fillmode": "overlay",
              "size": 10,
              "solidity": 0.2
             }
            },
            "type": "barpolar"
           }
          ],
          "carpet": [
           {
            "aaxis": {
             "endlinecolor": "rgb(36,36,36)",
             "gridcolor": "white",
             "linecolor": "white",
             "minorgridcolor": "white",
             "startlinecolor": "rgb(36,36,36)"
            },
            "baxis": {
             "endlinecolor": "rgb(36,36,36)",
             "gridcolor": "white",
             "linecolor": "white",
             "minorgridcolor": "white",
             "startlinecolor": "rgb(36,36,36)"
            },
            "type": "carpet"
           }
          ],
          "choropleth": [
           {
            "colorbar": {
             "outlinewidth": 0,
             "tickcolor": "rgb(36,36,36)",
             "ticklen": 8,
             "ticks": "outside",
             "tickwidth": 2
            },
            "type": "choropleth"
           }
          ],
          "contour": [
           {
            "colorbar": {
             "outlinewidth": 0,
             "tickcolor": "rgb(36,36,36)",
             "ticklen": 8,
             "ticks": "outside",
             "tickwidth": 2
            },
            "colorscale": [
             [
              0,
              "rgb(2,4,25)"
             ],
             [
              0.06274509803921569,
              "rgb(24,15,41)"
             ],
             [
              0.12549019607843137,
              "rgb(47,23,57)"
             ],
             [
              0.18823529411764706,
              "rgb(71,28,72)"
             ],
             [
              0.25098039215686274,
              "rgb(97,30,82)"
             ],
             [
              0.3137254901960784,
              "rgb(123,30,89)"
             ],
             [
              0.3764705882352941,
              "rgb(150,27,91)"
             ],
             [
              0.4392156862745098,
              "rgb(177,22,88)"
             ],
             [
              0.5019607843137255,
              "rgb(203,26,79)"
             ],
             [
              0.5647058823529412,
              "rgb(223,47,67)"
             ],
             [
              0.6274509803921569,
              "rgb(236,76,61)"
             ],
             [
              0.6901960784313725,
              "rgb(242,107,73)"
             ],
             [
              0.7529411764705882,
              "rgb(244,135,95)"
             ],
             [
              0.8156862745098039,
              "rgb(245,162,122)"
             ],
             [
              0.8784313725490196,
              "rgb(246,188,153)"
             ],
             [
              0.9411764705882353,
              "rgb(247,212,187)"
             ],
             [
              1,
              "rgb(250,234,220)"
             ]
            ],
            "type": "contour"
           }
          ],
          "contourcarpet": [
           {
            "colorbar": {
             "outlinewidth": 0,
             "tickcolor": "rgb(36,36,36)",
             "ticklen": 8,
             "ticks": "outside",
             "tickwidth": 2
            },
            "type": "contourcarpet"
           }
          ],
          "heatmap": [
           {
            "colorbar": {
             "outlinewidth": 0,
             "tickcolor": "rgb(36,36,36)",
             "ticklen": 8,
             "ticks": "outside",
             "tickwidth": 2
            },
            "colorscale": [
             [
              0,
              "rgb(2,4,25)"
             ],
             [
              0.06274509803921569,
              "rgb(24,15,41)"
             ],
             [
              0.12549019607843137,
              "rgb(47,23,57)"
             ],
             [
              0.18823529411764706,
              "rgb(71,28,72)"
             ],
             [
              0.25098039215686274,
              "rgb(97,30,82)"
             ],
             [
              0.3137254901960784,
              "rgb(123,30,89)"
             ],
             [
              0.3764705882352941,
              "rgb(150,27,91)"
             ],
             [
              0.4392156862745098,
              "rgb(177,22,88)"
             ],
             [
              0.5019607843137255,
              "rgb(203,26,79)"
             ],
             [
              0.5647058823529412,
              "rgb(223,47,67)"
             ],
             [
              0.6274509803921569,
              "rgb(236,76,61)"
             ],
             [
              0.6901960784313725,
              "rgb(242,107,73)"
             ],
             [
              0.7529411764705882,
              "rgb(244,135,95)"
             ],
             [
              0.8156862745098039,
              "rgb(245,162,122)"
             ],
             [
              0.8784313725490196,
              "rgb(246,188,153)"
             ],
             [
              0.9411764705882353,
              "rgb(247,212,187)"
             ],
             [
              1,
              "rgb(250,234,220)"
             ]
            ],
            "type": "heatmap"
           }
          ],
          "heatmapgl": [
           {
            "colorbar": {
             "outlinewidth": 0,
             "tickcolor": "rgb(36,36,36)",
             "ticklen": 8,
             "ticks": "outside",
             "tickwidth": 2
            },
            "colorscale": [
             [
              0,
              "rgb(2,4,25)"
             ],
             [
              0.06274509803921569,
              "rgb(24,15,41)"
             ],
             [
              0.12549019607843137,
              "rgb(47,23,57)"
             ],
             [
              0.18823529411764706,
              "rgb(71,28,72)"
             ],
             [
              0.25098039215686274,
              "rgb(97,30,82)"
             ],
             [
              0.3137254901960784,
              "rgb(123,30,89)"
             ],
             [
              0.3764705882352941,
              "rgb(150,27,91)"
             ],
             [
              0.4392156862745098,
              "rgb(177,22,88)"
             ],
             [
              0.5019607843137255,
              "rgb(203,26,79)"
             ],
             [
              0.5647058823529412,
              "rgb(223,47,67)"
             ],
             [
              0.6274509803921569,
              "rgb(236,76,61)"
             ],
             [
              0.6901960784313725,
              "rgb(242,107,73)"
             ],
             [
              0.7529411764705882,
              "rgb(244,135,95)"
             ],
             [
              0.8156862745098039,
              "rgb(245,162,122)"
             ],
             [
              0.8784313725490196,
              "rgb(246,188,153)"
             ],
             [
              0.9411764705882353,
              "rgb(247,212,187)"
             ],
             [
              1,
              "rgb(250,234,220)"
             ]
            ],
            "type": "heatmapgl"
           }
          ],
          "histogram": [
           {
            "marker": {
             "pattern": {
              "fillmode": "overlay",
              "size": 10,
              "solidity": 0.2
             }
            },
            "type": "histogram"
           }
          ],
          "histogram2d": [
           {
            "colorbar": {
             "outlinewidth": 0,
             "tickcolor": "rgb(36,36,36)",
             "ticklen": 8,
             "ticks": "outside",
             "tickwidth": 2
            },
            "colorscale": [
             [
              0,
              "rgb(2,4,25)"
             ],
             [
              0.06274509803921569,
              "rgb(24,15,41)"
             ],
             [
              0.12549019607843137,
              "rgb(47,23,57)"
             ],
             [
              0.18823529411764706,
              "rgb(71,28,72)"
             ],
             [
              0.25098039215686274,
              "rgb(97,30,82)"
             ],
             [
              0.3137254901960784,
              "rgb(123,30,89)"
             ],
             [
              0.3764705882352941,
              "rgb(150,27,91)"
             ],
             [
              0.4392156862745098,
              "rgb(177,22,88)"
             ],
             [
              0.5019607843137255,
              "rgb(203,26,79)"
             ],
             [
              0.5647058823529412,
              "rgb(223,47,67)"
             ],
             [
              0.6274509803921569,
              "rgb(236,76,61)"
             ],
             [
              0.6901960784313725,
              "rgb(242,107,73)"
             ],
             [
              0.7529411764705882,
              "rgb(244,135,95)"
             ],
             [
              0.8156862745098039,
              "rgb(245,162,122)"
             ],
             [
              0.8784313725490196,
              "rgb(246,188,153)"
             ],
             [
              0.9411764705882353,
              "rgb(247,212,187)"
             ],
             [
              1,
              "rgb(250,234,220)"
             ]
            ],
            "type": "histogram2d"
           }
          ],
          "histogram2dcontour": [
           {
            "colorbar": {
             "outlinewidth": 0,
             "tickcolor": "rgb(36,36,36)",
             "ticklen": 8,
             "ticks": "outside",
             "tickwidth": 2
            },
            "colorscale": [
             [
              0,
              "rgb(2,4,25)"
             ],
             [
              0.06274509803921569,
              "rgb(24,15,41)"
             ],
             [
              0.12549019607843137,
              "rgb(47,23,57)"
             ],
             [
              0.18823529411764706,
              "rgb(71,28,72)"
             ],
             [
              0.25098039215686274,
              "rgb(97,30,82)"
             ],
             [
              0.3137254901960784,
              "rgb(123,30,89)"
             ],
             [
              0.3764705882352941,
              "rgb(150,27,91)"
             ],
             [
              0.4392156862745098,
              "rgb(177,22,88)"
             ],
             [
              0.5019607843137255,
              "rgb(203,26,79)"
             ],
             [
              0.5647058823529412,
              "rgb(223,47,67)"
             ],
             [
              0.6274509803921569,
              "rgb(236,76,61)"
             ],
             [
              0.6901960784313725,
              "rgb(242,107,73)"
             ],
             [
              0.7529411764705882,
              "rgb(244,135,95)"
             ],
             [
              0.8156862745098039,
              "rgb(245,162,122)"
             ],
             [
              0.8784313725490196,
              "rgb(246,188,153)"
             ],
             [
              0.9411764705882353,
              "rgb(247,212,187)"
             ],
             [
              1,
              "rgb(250,234,220)"
             ]
            ],
            "type": "histogram2dcontour"
           }
          ],
          "mesh3d": [
           {
            "colorbar": {
             "outlinewidth": 0,
             "tickcolor": "rgb(36,36,36)",
             "ticklen": 8,
             "ticks": "outside",
             "tickwidth": 2
            },
            "type": "mesh3d"
           }
          ],
          "parcoords": [
           {
            "line": {
             "colorbar": {
              "outlinewidth": 0,
              "tickcolor": "rgb(36,36,36)",
              "ticklen": 8,
              "ticks": "outside",
              "tickwidth": 2
             }
            },
            "type": "parcoords"
           }
          ],
          "pie": [
           {
            "automargin": true,
            "type": "pie"
           }
          ],
          "scatter": [
           {
            "fillpattern": {
             "fillmode": "overlay",
             "size": 10,
             "solidity": 0.2
            },
            "type": "scatter"
           }
          ],
          "scatter3d": [
           {
            "line": {
             "colorbar": {
              "outlinewidth": 0,
              "tickcolor": "rgb(36,36,36)",
              "ticklen": 8,
              "ticks": "outside",
              "tickwidth": 2
             }
            },
            "marker": {
             "colorbar": {
              "outlinewidth": 0,
              "tickcolor": "rgb(36,36,36)",
              "ticklen": 8,
              "ticks": "outside",
              "tickwidth": 2
             }
            },
            "type": "scatter3d"
           }
          ],
          "scattercarpet": [
           {
            "marker": {
             "colorbar": {
              "outlinewidth": 0,
              "tickcolor": "rgb(36,36,36)",
              "ticklen": 8,
              "ticks": "outside",
              "tickwidth": 2
             }
            },
            "type": "scattercarpet"
           }
          ],
          "scattergeo": [
           {
            "marker": {
             "colorbar": {
              "outlinewidth": 0,
              "tickcolor": "rgb(36,36,36)",
              "ticklen": 8,
              "ticks": "outside",
              "tickwidth": 2
             }
            },
            "type": "scattergeo"
           }
          ],
          "scattergl": [
           {
            "marker": {
             "colorbar": {
              "outlinewidth": 0,
              "tickcolor": "rgb(36,36,36)",
              "ticklen": 8,
              "ticks": "outside",
              "tickwidth": 2
             }
            },
            "type": "scattergl"
           }
          ],
          "scattermapbox": [
           {
            "marker": {
             "colorbar": {
              "outlinewidth": 0,
              "tickcolor": "rgb(36,36,36)",
              "ticklen": 8,
              "ticks": "outside",
              "tickwidth": 2
             }
            },
            "type": "scattermapbox"
           }
          ],
          "scatterpolar": [
           {
            "marker": {
             "colorbar": {
              "outlinewidth": 0,
              "tickcolor": "rgb(36,36,36)",
              "ticklen": 8,
              "ticks": "outside",
              "tickwidth": 2
             }
            },
            "type": "scatterpolar"
           }
          ],
          "scatterpolargl": [
           {
            "marker": {
             "colorbar": {
              "outlinewidth": 0,
              "tickcolor": "rgb(36,36,36)",
              "ticklen": 8,
              "ticks": "outside",
              "tickwidth": 2
             }
            },
            "type": "scatterpolargl"
           }
          ],
          "scatterternary": [
           {
            "marker": {
             "colorbar": {
              "outlinewidth": 0,
              "tickcolor": "rgb(36,36,36)",
              "ticklen": 8,
              "ticks": "outside",
              "tickwidth": 2
             }
            },
            "type": "scatterternary"
           }
          ],
          "surface": [
           {
            "colorbar": {
             "outlinewidth": 0,
             "tickcolor": "rgb(36,36,36)",
             "ticklen": 8,
             "ticks": "outside",
             "tickwidth": 2
            },
            "colorscale": [
             [
              0,
              "rgb(2,4,25)"
             ],
             [
              0.06274509803921569,
              "rgb(24,15,41)"
             ],
             [
              0.12549019607843137,
              "rgb(47,23,57)"
             ],
             [
              0.18823529411764706,
              "rgb(71,28,72)"
             ],
             [
              0.25098039215686274,
              "rgb(97,30,82)"
             ],
             [
              0.3137254901960784,
              "rgb(123,30,89)"
             ],
             [
              0.3764705882352941,
              "rgb(150,27,91)"
             ],
             [
              0.4392156862745098,
              "rgb(177,22,88)"
             ],
             [
              0.5019607843137255,
              "rgb(203,26,79)"
             ],
             [
              0.5647058823529412,
              "rgb(223,47,67)"
             ],
             [
              0.6274509803921569,
              "rgb(236,76,61)"
             ],
             [
              0.6901960784313725,
              "rgb(242,107,73)"
             ],
             [
              0.7529411764705882,
              "rgb(244,135,95)"
             ],
             [
              0.8156862745098039,
              "rgb(245,162,122)"
             ],
             [
              0.8784313725490196,
              "rgb(246,188,153)"
             ],
             [
              0.9411764705882353,
              "rgb(247,212,187)"
             ],
             [
              1,
              "rgb(250,234,220)"
             ]
            ],
            "type": "surface"
           }
          ],
          "table": [
           {
            "cells": {
             "fill": {
              "color": "rgb(231,231,240)"
             },
             "line": {
              "color": "white"
             }
            },
            "header": {
             "fill": {
              "color": "rgb(183,183,191)"
             },
             "line": {
              "color": "white"
             }
            },
            "type": "table"
           }
          ]
         },
         "layout": {
          "annotationdefaults": {
           "arrowcolor": "rgb(67,103,167)"
          },
          "autotypenumbers": "strict",
          "coloraxis": {
           "colorbar": {
            "outlinewidth": 0,
            "tickcolor": "rgb(36,36,36)",
            "ticklen": 8,
            "ticks": "outside",
            "tickwidth": 2
           }
          },
          "colorscale": {
           "sequential": [
            [
             0,
             "rgb(2,4,25)"
            ],
            [
             0.06274509803921569,
             "rgb(24,15,41)"
            ],
            [
             0.12549019607843137,
             "rgb(47,23,57)"
            ],
            [
             0.18823529411764706,
             "rgb(71,28,72)"
            ],
            [
             0.25098039215686274,
             "rgb(97,30,82)"
            ],
            [
             0.3137254901960784,
             "rgb(123,30,89)"
            ],
            [
             0.3764705882352941,
             "rgb(150,27,91)"
            ],
            [
             0.4392156862745098,
             "rgb(177,22,88)"
            ],
            [
             0.5019607843137255,
             "rgb(203,26,79)"
            ],
            [
             0.5647058823529412,
             "rgb(223,47,67)"
            ],
            [
             0.6274509803921569,
             "rgb(236,76,61)"
            ],
            [
             0.6901960784313725,
             "rgb(242,107,73)"
            ],
            [
             0.7529411764705882,
             "rgb(244,135,95)"
            ],
            [
             0.8156862745098039,
             "rgb(245,162,122)"
            ],
            [
             0.8784313725490196,
             "rgb(246,188,153)"
            ],
            [
             0.9411764705882353,
             "rgb(247,212,187)"
            ],
            [
             1,
             "rgb(250,234,220)"
            ]
           ],
           "sequentialminus": [
            [
             0,
             "rgb(2,4,25)"
            ],
            [
             0.06274509803921569,
             "rgb(24,15,41)"
            ],
            [
             0.12549019607843137,
             "rgb(47,23,57)"
            ],
            [
             0.18823529411764706,
             "rgb(71,28,72)"
            ],
            [
             0.25098039215686274,
             "rgb(97,30,82)"
            ],
            [
             0.3137254901960784,
             "rgb(123,30,89)"
            ],
            [
             0.3764705882352941,
             "rgb(150,27,91)"
            ],
            [
             0.4392156862745098,
             "rgb(177,22,88)"
            ],
            [
             0.5019607843137255,
             "rgb(203,26,79)"
            ],
            [
             0.5647058823529412,
             "rgb(223,47,67)"
            ],
            [
             0.6274509803921569,
             "rgb(236,76,61)"
            ],
            [
             0.6901960784313725,
             "rgb(242,107,73)"
            ],
            [
             0.7529411764705882,
             "rgb(244,135,95)"
            ],
            [
             0.8156862745098039,
             "rgb(245,162,122)"
            ],
            [
             0.8784313725490196,
             "rgb(246,188,153)"
            ],
            [
             0.9411764705882353,
             "rgb(247,212,187)"
            ],
            [
             1,
             "rgb(250,234,220)"
            ]
           ]
          },
          "colorway": [
           "rgb(76,114,176)",
           "rgb(221,132,82)",
           "rgb(85,168,104)",
           "rgb(196,78,82)",
           "rgb(129,114,179)",
           "rgb(147,120,96)",
           "rgb(218,139,195)",
           "rgb(140,140,140)",
           "rgb(204,185,116)",
           "rgb(100,181,205)"
          ],
          "font": {
           "color": "rgb(36,36,36)"
          },
          "geo": {
           "bgcolor": "white",
           "lakecolor": "white",
           "landcolor": "rgb(234,234,242)",
           "showlakes": true,
           "showland": true,
           "subunitcolor": "white"
          },
          "hoverlabel": {
           "align": "left"
          },
          "hovermode": "closest",
          "paper_bgcolor": "white",
          "plot_bgcolor": "rgb(234,234,242)",
          "polar": {
           "angularaxis": {
            "gridcolor": "white",
            "linecolor": "white",
            "showgrid": true,
            "ticks": ""
           },
           "bgcolor": "rgb(234,234,242)",
           "radialaxis": {
            "gridcolor": "white",
            "linecolor": "white",
            "showgrid": true,
            "ticks": ""
           }
          },
          "scene": {
           "xaxis": {
            "backgroundcolor": "rgb(234,234,242)",
            "gridcolor": "white",
            "gridwidth": 2,
            "linecolor": "white",
            "showbackground": true,
            "showgrid": true,
            "ticks": "",
            "zerolinecolor": "white"
           },
           "yaxis": {
            "backgroundcolor": "rgb(234,234,242)",
            "gridcolor": "white",
            "gridwidth": 2,
            "linecolor": "white",
            "showbackground": true,
            "showgrid": true,
            "ticks": "",
            "zerolinecolor": "white"
           },
           "zaxis": {
            "backgroundcolor": "rgb(234,234,242)",
            "gridcolor": "white",
            "gridwidth": 2,
            "linecolor": "white",
            "showbackground": true,
            "showgrid": true,
            "ticks": "",
            "zerolinecolor": "white"
           }
          },
          "shapedefaults": {
           "fillcolor": "rgb(67,103,167)",
           "line": {
            "width": 0
           },
           "opacity": 0.5
          },
          "ternary": {
           "aaxis": {
            "gridcolor": "white",
            "linecolor": "white",
            "showgrid": true,
            "ticks": ""
           },
           "baxis": {
            "gridcolor": "white",
            "linecolor": "white",
            "showgrid": true,
            "ticks": ""
           },
           "bgcolor": "rgb(234,234,242)",
           "caxis": {
            "gridcolor": "white",
            "linecolor": "white",
            "showgrid": true,
            "ticks": ""
           }
          },
          "xaxis": {
           "automargin": true,
           "gridcolor": "white",
           "linecolor": "white",
           "showgrid": true,
           "ticks": "",
           "title": {
            "standoff": 15
           },
           "zerolinecolor": "white"
          },
          "yaxis": {
           "automargin": true,
           "gridcolor": "white",
           "linecolor": "white",
           "showgrid": true,
           "ticks": "",
           "title": {
            "standoff": 15
           },
           "zerolinecolor": "white"
          }
         }
        },
        "title": {
         "text": "Predicted CO2 Emissions",
         "x": 0.5
        },
        "width": 1000,
        "xaxis": {
         "range": [
          "1988",
          "2020"
         ],
         "rangeselector": {
          "buttons": [
           {
            "count": 1
           }
          ]
         },
         "rangeslider": {
          "visible": true
         },
         "title": {
          "text": "Year"
         }
        },
        "yaxis": {
         "title": {
          "text": "CO2 (million-tons)"
         }
        }
       }
      },
      "text/html": [
       "<div>                            <div id=\"0e305982-0fbf-40de-8439-78bdd27b08ad\" class=\"plotly-graph-div\" style=\"height:800px; width:1000px;\"></div>            <script type=\"text/javascript\">                require([\"plotly\"], function(Plotly) {                    window.PLOTLYENV=window.PLOTLYENV || {};                                    if (document.getElementById(\"0e305982-0fbf-40de-8439-78bdd27b08ad\")) {                    Plotly.newPlot(                        \"0e305982-0fbf-40de-8439-78bdd27b08ad\",                        [{\"line\":{\"color\":\"#DE2910\",\"width\":1.5},\"marker\":{\"color\":\"#FFDE00\",\"line\":{\"color\":\"#DE2910\",\"width\":1.2},\"size\":6.5},\"mode\":\"lines+markers\",\"name\":\"China\",\"x\":[1989,1990,1991,1992,1993,1994,1995,1996,1997,1998,1999,2000,2001,2002,2003,2004,2005,2006,2007,2008,2009,2010,2011,2012,2013,2014,2015,2016,2017,2018,2019,2020,2021,2022,2023,2024,2025,2026,2027,2028,2029,2030,2031,2032,2033,2034,2035,2036,2037,2038,2039,2040,2041,2042,2043,2044,2045,2046,2047,2048,2049,2050],\"y\":[2463.654,2484.855,2606.096,2730.788,2921.651,3100.002,3357.909,3503.234,3510.169,3360.455,3350.34,3439.152,3514.934,3872.595,4545.014,5223.755,5876.555,6488.804,6978.612,7496.832,7886.533,8616.653,9528.556,9775.622,9952.744,9985.583,9848.42,9720.444,9920.459,10289.99,10489.989,10587.943,10655.106,10668.184,10819.353,11200.517,11846.416,12604.15,13402.092,13987.479,14328.106,14419.9,14303.101,14450.731,14653.754,14756.313,15005.77,15053.737,14962.321,14834.002,14916.531,15215.375,15696.903,16198.824,16744.713,17211.915,17446.61,17663.354,17854.949,17955.742,18092.829,18178.02],\"type\":\"scatter\"},{\"line\":{\"color\":\"#3C3B6E\",\"width\":1.5},\"marker\":{\"color\":\"#FFFFFF\",\"line\":{\"color\":\"#B22234\",\"width\":1.2},\"size\":6.5},\"mode\":\"lines+markers\",\"name\":\"United States\",\"x\":[1989,1990,1991,1992,1993,1994,1995,1996,1997,1998,1999,2000,2001,2002,2003,2004,2005,2006,2007,2008,2009,2010,2011,2012,2013,2014,2015,2016,2017,2018,2019,2020,2021,2022,2023,2024,2025,2026,2027,2028,2029,2030,2031,2032,2033,2034,2035,2036,2037,2038,2039,2040,2041,2042,2043,2044,2045,2046,2047,2048,2049,2050],\"y\":[5131.927,5113.455,5057.931,5167.481,5267.343,5358.824,5421.502,5610.582,5686.465,5731.05,5804.669,6010.508,5904.882,5946.771,6011.837,6114.007,6134.521,6051.668,6131.004,5914.078,5478.21,5675.786,5540.173,5338.698,5474.257,5522.807,5371.771,5248.024,5207.751,5375.491,5255.816,5318.872,5562.984,5507.074,5439.723,5571.055,5606.167,5527.071,5701.259,5780.852,5861.928,5779.052,5811.066,5841.971,5801.997,6043.658,6137.169,6267.615,6414.705,6448.096,6296.348,6374.812,6296.014,6273.002,6284.679,6149.345,6118.7,6108.557,6082.552,6142.493,6348.516,6243.529],\"type\":\"scatter\"},{\"line\":{\"color\":\"#FF9933\",\"width\":1.5},\"marker\":{\"color\":\"#FFFFFF\",\"line\":{\"color\":\"#138808\",\"width\":1.2},\"size\":6.5},\"mode\":\"lines+markers\",\"name\":\"India\",\"x\":[1989,1990,1991,1992,1993,1994,1995,1996,1997,1998,1999,2000,2001,2002,2003,2004,2005,2006,2007,2008,2009,2010,2011,2012,2013,2014,2015,2016,2017,2018,2019,2020,2021,2022,2023,2024,2025,2026,2027,2028,2029,2030,2031,2032,2033,2034,2035,2036,2037,2038,2039,2040,2041,2042,2043,2044,2045,2046,2047,2048,2049,2050],\"y\":[541.135,578.518,615.925,656.033,677.916,716.918,762.121,825.919,859.686,877.698,951.749,978.919,992.56,1023.027,1059.616,1125.471,1185.953,1259.744,1358.152,1462.815,1612.817,1677.888,1780.13,1963.586,2036.937,2185.856,2268.567,2382.223,2433.856,2599.806,2625.968,2723.482,2795.146,2973.66,2998.517,3183.154,3270.293,3436.798,3588.01,3782.994,3888.056,4121.075,4293.535,4501.924,4653.707,4882.021,5058.278,5240.265,5441.087,5616.45,5787.595,6009.493,6194.683,6357.145,6594.366,6775.949,6993.431,7173.884,7431.317,7610.697,7876.342,8098.48],\"type\":\"scatter\"},{\"line\":{\"color\":\"#DA291C\",\"width\":1.5},\"marker\":{\"color\":\"#FFFFFF\",\"line\":{\"color\":\"#0033A0\",\"width\":1.2},\"size\":6.5},\"mode\":\"lines+markers\",\"name\":\"Russia\",\"x\":[1989,1990,1991,1992,1993,1994,1995,1996,1997,1998,1999,2000,2001,2002,2003,2004,2005,2006,2007,2008,2009,2010,2011,2012,2013,2014,2015,2016,2017,2018,2019,2020,2021,2022,2023,2024,2025,2026,2027,2028,2029,2030,2031,2032,2033,2034,2035,2036,2037,2038,2039,2040,2041,2042,2043,2044,2045,2046,2047,2048,2049,2050],\"y\":[2400.308,2525.518,2396.205,1957.886,1859.679,1641.616,1613.141,1580.376,1475.36,1458.368,1486.301,1471.259,1507.707,1495.694,1525.607,1530.694,1547.599,1606.542,1604.549,1636.923,1528.961,1613.113,1665.207,1680.104,1619.42,1622.589,1623.1,1618.599,1646.457,1691.647,1679.449,1751.248,1853.96,1878.862,2013.566,2037.372,2131.909,2200.238,2272.901,2255.781,2249.462,2204.847,2214.066,2269.21,2323.923,2360.973,2441.596,2548.667,2627.636,2701.045,2618.481,2575.676,2531.046,2516.207,2424.916,2349.317,2300.666,2293.333,2286.559,2293.282,2259.747,2267.276],\"type\":\"scatter\"},{\"line\":{\"color\":\"#BC002D\",\"width\":1.5},\"marker\":{\"color\":\"#FFFFFF\",\"line\":{\"color\":\"#BC002D\",\"width\":1.2},\"size\":6.5},\"mode\":\"lines+markers\",\"name\":\"Japan\",\"x\":[1989,1990,1991,1992,1993,1994,1995,1996,1997,1998,1999,2000,2001,2002,2003,2004,2005,2006,2007,2008,2009,2010,2011,2012,2013,2014,2015,2016,2017,2018,2019,2020,2021,2022,2023,2024,2025,2026,2027,2028,2029,2030,2031,2032,2033,2034,2035,2036,2037,2038,2039,2040,2041,2042,2043,2044,2045,2046,2047,2048,2049,2050],\"y\":[1021.682,1158.007,1169.692,1179.396,1172.339,1227.273,1239.62,1251.531,1244.781,1204.993,1241.611,1264.375,1249.766,1279.12,1287.468,1282.862,1290.371,1267.362,1303.134,1232.314,1163.213,1214.816,1264.866,1306.01,1315.343,1263.729,1223.396,1203.718,1188.123,1143.458,1105.929,1129.603,1168.221,1160.305,1084.463,1069.35,1028.748,1011.635,1028.075,986.062,987.298,985.28,1010.504,1004.877,987.68,1029.139,1020.772,1055.859,1113.741,1108.448,1109.447,1086.434,1043.137,961.394,924.551,870.786,828.546,858.285,888.985,834.699,823.922,786.362],\"type\":\"scatter\"},{\"line\":{\"color\":\"#239F40\",\"width\":1.5},\"marker\":{\"color\":\"#FFFFFF\",\"line\":{\"color\":\"#DA0000\",\"width\":1.2},\"size\":6.5},\"mode\":\"lines+markers\",\"name\":\"Iran\",\"x\":[1989,1990,1991,1992,1993,1994,1995,1996,1997,1998,1999,2000,2001,2002,2003,2004,2005,2006,2007,2008,2009,2010,2011,2012,2013,2014,2015,2016,2017,2018,2019,2020,2021,2022,2023,2024,2025,2026,2027,2028,2029,2030,2031,2032,2033,2034,2035,2036,2037,2038,2039,2040,2041,2042,2043,2044,2045,2046,2047,2048,2049,2050],\"y\":[190.198,209.944,226.011,226.935,235.607,263.82,271.582,273.769,267.046,305.503,379.501,369.15,394.759,397.625,413.665,441.947,463.499,503.636,512.66,534.644,559.025,569.772,577.336,602.738,610.21,641.842,628.626,637.362,712.256,707.157,733.366,744.736,777.263,787.651,823.377,858.385,863.365,892.868,916.316,947.138,974.768,971.557,1007.208,1012.693,1010.124,1019.281,1041.341,1065.846,1078.473,1081.098,1121.134,1143.805,1166.21,1178.686,1192.162,1200.541,1206.385,1236.21,1254.004,1287.289,1305.547,1322.561],\"type\":\"scatter\"},{\"line\":{\"color\":\"#000000\",\"width\":1.5},\"marker\":{\"color\":\"#FFCE00\",\"line\":{\"color\":\"#DD0000\",\"width\":1.2},\"size\":6.5},\"mode\":\"lines+markers\",\"name\":\"Germany\",\"x\":[1989,1990,1991,1992,1993,1994,1995,1996,1997,1998,1999,2000,2001,2002,2003,2004,2005,2006,2007,2008,2009,2010,2011,2012,2013,2014,2015,2016,2017,2018,2019,2020,2021,2022,2023,2024,2025,2026,2027,2028,2029,2030,2031,2032,2033,2034,2035,2036,2037,2038,2039,2040,2041,2042,2043,2044,2045,2046,2047,2048,2049,2050],\"y\":[1008.792,1052.477,1014.225,965.893,956.132,939.815,938.968,959.151,931.324,923.357,895.874,899.852,916.649,899.971,901.152,887.089,866.697,878.32,851.624,854.927,790.295,832.949,809.217,813.985,831.454,792.588,795.61,800.687,785.883,754.112,711.428,752.242,749.56,761.979,698.036,632.121,586.666,604.424,607.103,601.956,612.848,534.778,562.142,577.173,592.009,501.785,503.997,491.509,541.787,573.165,528.674,499.337,479.361,512.737,454.666,421.21,445.568,435.593,459.755,373.446,442.041,430.764],\"type\":\"scatter\"}],                        {\"template\":{\"data\":{\"barpolar\":[{\"marker\":{\"line\":{\"color\":\"rgb(234,234,242)\",\"width\":0.5},\"pattern\":{\"fillmode\":\"overlay\",\"size\":10,\"solidity\":0.2}},\"type\":\"barpolar\"}],\"bar\":[{\"error_x\":{\"color\":\"rgb(36,36,36)\"},\"error_y\":{\"color\":\"rgb(36,36,36)\"},\"marker\":{\"line\":{\"color\":\"rgb(234,234,242)\",\"width\":0.5},\"pattern\":{\"fillmode\":\"overlay\",\"size\":10,\"solidity\":0.2}},\"type\":\"bar\"}],\"carpet\":[{\"aaxis\":{\"endlinecolor\":\"rgb(36,36,36)\",\"gridcolor\":\"white\",\"linecolor\":\"white\",\"minorgridcolor\":\"white\",\"startlinecolor\":\"rgb(36,36,36)\"},\"baxis\":{\"endlinecolor\":\"rgb(36,36,36)\",\"gridcolor\":\"white\",\"linecolor\":\"white\",\"minorgridcolor\":\"white\",\"startlinecolor\":\"rgb(36,36,36)\"},\"type\":\"carpet\"}],\"choropleth\":[{\"colorbar\":{\"outlinewidth\":0,\"tickcolor\":\"rgb(36,36,36)\",\"ticklen\":8,\"ticks\":\"outside\",\"tickwidth\":2},\"type\":\"choropleth\"}],\"contourcarpet\":[{\"colorbar\":{\"outlinewidth\":0,\"tickcolor\":\"rgb(36,36,36)\",\"ticklen\":8,\"ticks\":\"outside\",\"tickwidth\":2},\"type\":\"contourcarpet\"}],\"contour\":[{\"colorbar\":{\"outlinewidth\":0,\"tickcolor\":\"rgb(36,36,36)\",\"ticklen\":8,\"ticks\":\"outside\",\"tickwidth\":2},\"colorscale\":[[0.0,\"rgb(2,4,25)\"],[0.06274509803921569,\"rgb(24,15,41)\"],[0.12549019607843137,\"rgb(47,23,57)\"],[0.18823529411764706,\"rgb(71,28,72)\"],[0.25098039215686274,\"rgb(97,30,82)\"],[0.3137254901960784,\"rgb(123,30,89)\"],[0.3764705882352941,\"rgb(150,27,91)\"],[0.4392156862745098,\"rgb(177,22,88)\"],[0.5019607843137255,\"rgb(203,26,79)\"],[0.5647058823529412,\"rgb(223,47,67)\"],[0.6274509803921569,\"rgb(236,76,61)\"],[0.6901960784313725,\"rgb(242,107,73)\"],[0.7529411764705882,\"rgb(244,135,95)\"],[0.8156862745098039,\"rgb(245,162,122)\"],[0.8784313725490196,\"rgb(246,188,153)\"],[0.9411764705882353,\"rgb(247,212,187)\"],[1.0,\"rgb(250,234,220)\"]],\"type\":\"contour\"}],\"heatmapgl\":[{\"colorbar\":{\"outlinewidth\":0,\"tickcolor\":\"rgb(36,36,36)\",\"ticklen\":8,\"ticks\":\"outside\",\"tickwidth\":2},\"colorscale\":[[0.0,\"rgb(2,4,25)\"],[0.06274509803921569,\"rgb(24,15,41)\"],[0.12549019607843137,\"rgb(47,23,57)\"],[0.18823529411764706,\"rgb(71,28,72)\"],[0.25098039215686274,\"rgb(97,30,82)\"],[0.3137254901960784,\"rgb(123,30,89)\"],[0.3764705882352941,\"rgb(150,27,91)\"],[0.4392156862745098,\"rgb(177,22,88)\"],[0.5019607843137255,\"rgb(203,26,79)\"],[0.5647058823529412,\"rgb(223,47,67)\"],[0.6274509803921569,\"rgb(236,76,61)\"],[0.6901960784313725,\"rgb(242,107,73)\"],[0.7529411764705882,\"rgb(244,135,95)\"],[0.8156862745098039,\"rgb(245,162,122)\"],[0.8784313725490196,\"rgb(246,188,153)\"],[0.9411764705882353,\"rgb(247,212,187)\"],[1.0,\"rgb(250,234,220)\"]],\"type\":\"heatmapgl\"}],\"heatmap\":[{\"colorbar\":{\"outlinewidth\":0,\"tickcolor\":\"rgb(36,36,36)\",\"ticklen\":8,\"ticks\":\"outside\",\"tickwidth\":2},\"colorscale\":[[0.0,\"rgb(2,4,25)\"],[0.06274509803921569,\"rgb(24,15,41)\"],[0.12549019607843137,\"rgb(47,23,57)\"],[0.18823529411764706,\"rgb(71,28,72)\"],[0.25098039215686274,\"rgb(97,30,82)\"],[0.3137254901960784,\"rgb(123,30,89)\"],[0.3764705882352941,\"rgb(150,27,91)\"],[0.4392156862745098,\"rgb(177,22,88)\"],[0.5019607843137255,\"rgb(203,26,79)\"],[0.5647058823529412,\"rgb(223,47,67)\"],[0.6274509803921569,\"rgb(236,76,61)\"],[0.6901960784313725,\"rgb(242,107,73)\"],[0.7529411764705882,\"rgb(244,135,95)\"],[0.8156862745098039,\"rgb(245,162,122)\"],[0.8784313725490196,\"rgb(246,188,153)\"],[0.9411764705882353,\"rgb(247,212,187)\"],[1.0,\"rgb(250,234,220)\"]],\"type\":\"heatmap\"}],\"histogram2dcontour\":[{\"colorbar\":{\"outlinewidth\":0,\"tickcolor\":\"rgb(36,36,36)\",\"ticklen\":8,\"ticks\":\"outside\",\"tickwidth\":2},\"colorscale\":[[0.0,\"rgb(2,4,25)\"],[0.06274509803921569,\"rgb(24,15,41)\"],[0.12549019607843137,\"rgb(47,23,57)\"],[0.18823529411764706,\"rgb(71,28,72)\"],[0.25098039215686274,\"rgb(97,30,82)\"],[0.3137254901960784,\"rgb(123,30,89)\"],[0.3764705882352941,\"rgb(150,27,91)\"],[0.4392156862745098,\"rgb(177,22,88)\"],[0.5019607843137255,\"rgb(203,26,79)\"],[0.5647058823529412,\"rgb(223,47,67)\"],[0.6274509803921569,\"rgb(236,76,61)\"],[0.6901960784313725,\"rgb(242,107,73)\"],[0.7529411764705882,\"rgb(244,135,95)\"],[0.8156862745098039,\"rgb(245,162,122)\"],[0.8784313725490196,\"rgb(246,188,153)\"],[0.9411764705882353,\"rgb(247,212,187)\"],[1.0,\"rgb(250,234,220)\"]],\"type\":\"histogram2dcontour\"}],\"histogram2d\":[{\"colorbar\":{\"outlinewidth\":0,\"tickcolor\":\"rgb(36,36,36)\",\"ticklen\":8,\"ticks\":\"outside\",\"tickwidth\":2},\"colorscale\":[[0.0,\"rgb(2,4,25)\"],[0.06274509803921569,\"rgb(24,15,41)\"],[0.12549019607843137,\"rgb(47,23,57)\"],[0.18823529411764706,\"rgb(71,28,72)\"],[0.25098039215686274,\"rgb(97,30,82)\"],[0.3137254901960784,\"rgb(123,30,89)\"],[0.3764705882352941,\"rgb(150,27,91)\"],[0.4392156862745098,\"rgb(177,22,88)\"],[0.5019607843137255,\"rgb(203,26,79)\"],[0.5647058823529412,\"rgb(223,47,67)\"],[0.6274509803921569,\"rgb(236,76,61)\"],[0.6901960784313725,\"rgb(242,107,73)\"],[0.7529411764705882,\"rgb(244,135,95)\"],[0.8156862745098039,\"rgb(245,162,122)\"],[0.8784313725490196,\"rgb(246,188,153)\"],[0.9411764705882353,\"rgb(247,212,187)\"],[1.0,\"rgb(250,234,220)\"]],\"type\":\"histogram2d\"}],\"histogram\":[{\"marker\":{\"pattern\":{\"fillmode\":\"overlay\",\"size\":10,\"solidity\":0.2}},\"type\":\"histogram\"}],\"mesh3d\":[{\"colorbar\":{\"outlinewidth\":0,\"tickcolor\":\"rgb(36,36,36)\",\"ticklen\":8,\"ticks\":\"outside\",\"tickwidth\":2},\"type\":\"mesh3d\"}],\"parcoords\":[{\"line\":{\"colorbar\":{\"outlinewidth\":0,\"tickcolor\":\"rgb(36,36,36)\",\"ticklen\":8,\"ticks\":\"outside\",\"tickwidth\":2}},\"type\":\"parcoords\"}],\"pie\":[{\"automargin\":true,\"type\":\"pie\"}],\"scatter3d\":[{\"line\":{\"colorbar\":{\"outlinewidth\":0,\"tickcolor\":\"rgb(36,36,36)\",\"ticklen\":8,\"ticks\":\"outside\",\"tickwidth\":2}},\"marker\":{\"colorbar\":{\"outlinewidth\":0,\"tickcolor\":\"rgb(36,36,36)\",\"ticklen\":8,\"ticks\":\"outside\",\"tickwidth\":2}},\"type\":\"scatter3d\"}],\"scattercarpet\":[{\"marker\":{\"colorbar\":{\"outlinewidth\":0,\"tickcolor\":\"rgb(36,36,36)\",\"ticklen\":8,\"ticks\":\"outside\",\"tickwidth\":2}},\"type\":\"scattercarpet\"}],\"scattergeo\":[{\"marker\":{\"colorbar\":{\"outlinewidth\":0,\"tickcolor\":\"rgb(36,36,36)\",\"ticklen\":8,\"ticks\":\"outside\",\"tickwidth\":2}},\"type\":\"scattergeo\"}],\"scattergl\":[{\"marker\":{\"colorbar\":{\"outlinewidth\":0,\"tickcolor\":\"rgb(36,36,36)\",\"ticklen\":8,\"ticks\":\"outside\",\"tickwidth\":2}},\"type\":\"scattergl\"}],\"scattermapbox\":[{\"marker\":{\"colorbar\":{\"outlinewidth\":0,\"tickcolor\":\"rgb(36,36,36)\",\"ticklen\":8,\"ticks\":\"outside\",\"tickwidth\":2}},\"type\":\"scattermapbox\"}],\"scatterpolargl\":[{\"marker\":{\"colorbar\":{\"outlinewidth\":0,\"tickcolor\":\"rgb(36,36,36)\",\"ticklen\":8,\"ticks\":\"outside\",\"tickwidth\":2}},\"type\":\"scatterpolargl\"}],\"scatterpolar\":[{\"marker\":{\"colorbar\":{\"outlinewidth\":0,\"tickcolor\":\"rgb(36,36,36)\",\"ticklen\":8,\"ticks\":\"outside\",\"tickwidth\":2}},\"type\":\"scatterpolar\"}],\"scatter\":[{\"fillpattern\":{\"fillmode\":\"overlay\",\"size\":10,\"solidity\":0.2},\"type\":\"scatter\"}],\"scatterternary\":[{\"marker\":{\"colorbar\":{\"outlinewidth\":0,\"tickcolor\":\"rgb(36,36,36)\",\"ticklen\":8,\"ticks\":\"outside\",\"tickwidth\":2}},\"type\":\"scatterternary\"}],\"surface\":[{\"colorbar\":{\"outlinewidth\":0,\"tickcolor\":\"rgb(36,36,36)\",\"ticklen\":8,\"ticks\":\"outside\",\"tickwidth\":2},\"colorscale\":[[0.0,\"rgb(2,4,25)\"],[0.06274509803921569,\"rgb(24,15,41)\"],[0.12549019607843137,\"rgb(47,23,57)\"],[0.18823529411764706,\"rgb(71,28,72)\"],[0.25098039215686274,\"rgb(97,30,82)\"],[0.3137254901960784,\"rgb(123,30,89)\"],[0.3764705882352941,\"rgb(150,27,91)\"],[0.4392156862745098,\"rgb(177,22,88)\"],[0.5019607843137255,\"rgb(203,26,79)\"],[0.5647058823529412,\"rgb(223,47,67)\"],[0.6274509803921569,\"rgb(236,76,61)\"],[0.6901960784313725,\"rgb(242,107,73)\"],[0.7529411764705882,\"rgb(244,135,95)\"],[0.8156862745098039,\"rgb(245,162,122)\"],[0.8784313725490196,\"rgb(246,188,153)\"],[0.9411764705882353,\"rgb(247,212,187)\"],[1.0,\"rgb(250,234,220)\"]],\"type\":\"surface\"}],\"table\":[{\"cells\":{\"fill\":{\"color\":\"rgb(231,231,240)\"},\"line\":{\"color\":\"white\"}},\"header\":{\"fill\":{\"color\":\"rgb(183,183,191)\"},\"line\":{\"color\":\"white\"}},\"type\":\"table\"}]},\"layout\":{\"annotationdefaults\":{\"arrowcolor\":\"rgb(67,103,167)\"},\"autotypenumbers\":\"strict\",\"coloraxis\":{\"colorbar\":{\"outlinewidth\":0,\"tickcolor\":\"rgb(36,36,36)\",\"ticklen\":8,\"ticks\":\"outside\",\"tickwidth\":2}},\"colorscale\":{\"sequential\":[[0.0,\"rgb(2,4,25)\"],[0.06274509803921569,\"rgb(24,15,41)\"],[0.12549019607843137,\"rgb(47,23,57)\"],[0.18823529411764706,\"rgb(71,28,72)\"],[0.25098039215686274,\"rgb(97,30,82)\"],[0.3137254901960784,\"rgb(123,30,89)\"],[0.3764705882352941,\"rgb(150,27,91)\"],[0.4392156862745098,\"rgb(177,22,88)\"],[0.5019607843137255,\"rgb(203,26,79)\"],[0.5647058823529412,\"rgb(223,47,67)\"],[0.6274509803921569,\"rgb(236,76,61)\"],[0.6901960784313725,\"rgb(242,107,73)\"],[0.7529411764705882,\"rgb(244,135,95)\"],[0.8156862745098039,\"rgb(245,162,122)\"],[0.8784313725490196,\"rgb(246,188,153)\"],[0.9411764705882353,\"rgb(247,212,187)\"],[1.0,\"rgb(250,234,220)\"]],\"sequentialminus\":[[0.0,\"rgb(2,4,25)\"],[0.06274509803921569,\"rgb(24,15,41)\"],[0.12549019607843137,\"rgb(47,23,57)\"],[0.18823529411764706,\"rgb(71,28,72)\"],[0.25098039215686274,\"rgb(97,30,82)\"],[0.3137254901960784,\"rgb(123,30,89)\"],[0.3764705882352941,\"rgb(150,27,91)\"],[0.4392156862745098,\"rgb(177,22,88)\"],[0.5019607843137255,\"rgb(203,26,79)\"],[0.5647058823529412,\"rgb(223,47,67)\"],[0.6274509803921569,\"rgb(236,76,61)\"],[0.6901960784313725,\"rgb(242,107,73)\"],[0.7529411764705882,\"rgb(244,135,95)\"],[0.8156862745098039,\"rgb(245,162,122)\"],[0.8784313725490196,\"rgb(246,188,153)\"],[0.9411764705882353,\"rgb(247,212,187)\"],[1.0,\"rgb(250,234,220)\"]]},\"colorway\":[\"rgb(76,114,176)\",\"rgb(221,132,82)\",\"rgb(85,168,104)\",\"rgb(196,78,82)\",\"rgb(129,114,179)\",\"rgb(147,120,96)\",\"rgb(218,139,195)\",\"rgb(140,140,140)\",\"rgb(204,185,116)\",\"rgb(100,181,205)\"],\"font\":{\"color\":\"rgb(36,36,36)\"},\"geo\":{\"bgcolor\":\"white\",\"lakecolor\":\"white\",\"landcolor\":\"rgb(234,234,242)\",\"showlakes\":true,\"showland\":true,\"subunitcolor\":\"white\"},\"hoverlabel\":{\"align\":\"left\"},\"hovermode\":\"closest\",\"paper_bgcolor\":\"white\",\"plot_bgcolor\":\"rgb(234,234,242)\",\"polar\":{\"angularaxis\":{\"gridcolor\":\"white\",\"linecolor\":\"white\",\"showgrid\":true,\"ticks\":\"\"},\"bgcolor\":\"rgb(234,234,242)\",\"radialaxis\":{\"gridcolor\":\"white\",\"linecolor\":\"white\",\"showgrid\":true,\"ticks\":\"\"}},\"scene\":{\"xaxis\":{\"backgroundcolor\":\"rgb(234,234,242)\",\"gridcolor\":\"white\",\"gridwidth\":2,\"linecolor\":\"white\",\"showbackground\":true,\"showgrid\":true,\"ticks\":\"\",\"zerolinecolor\":\"white\"},\"yaxis\":{\"backgroundcolor\":\"rgb(234,234,242)\",\"gridcolor\":\"white\",\"gridwidth\":2,\"linecolor\":\"white\",\"showbackground\":true,\"showgrid\":true,\"ticks\":\"\",\"zerolinecolor\":\"white\"},\"zaxis\":{\"backgroundcolor\":\"rgb(234,234,242)\",\"gridcolor\":\"white\",\"gridwidth\":2,\"linecolor\":\"white\",\"showbackground\":true,\"showgrid\":true,\"ticks\":\"\",\"zerolinecolor\":\"white\"}},\"shapedefaults\":{\"fillcolor\":\"rgb(67,103,167)\",\"line\":{\"width\":0},\"opacity\":0.5},\"ternary\":{\"aaxis\":{\"gridcolor\":\"white\",\"linecolor\":\"white\",\"showgrid\":true,\"ticks\":\"\"},\"baxis\":{\"gridcolor\":\"white\",\"linecolor\":\"white\",\"showgrid\":true,\"ticks\":\"\"},\"bgcolor\":\"rgb(234,234,242)\",\"caxis\":{\"gridcolor\":\"white\",\"linecolor\":\"white\",\"showgrid\":true,\"ticks\":\"\"}},\"xaxis\":{\"automargin\":true,\"gridcolor\":\"white\",\"linecolor\":\"white\",\"showgrid\":true,\"ticks\":\"\",\"title\":{\"standoff\":15},\"zerolinecolor\":\"white\"},\"yaxis\":{\"automargin\":true,\"gridcolor\":\"white\",\"linecolor\":\"white\",\"showgrid\":true,\"ticks\":\"\",\"title\":{\"standoff\":15},\"zerolinecolor\":\"white\"}}},\"title\":{\"text\":\"Predicted CO2 Emissions\",\"x\":0.5},\"legend\":{\"title\":{\"text\":\"Countries\",\"side\":\"top\"}},\"font\":{\"family\":\"Times New Roman\",\"size\":14},\"xaxis\":{\"rangeslider\":{\"visible\":true},\"title\":{\"text\":\"Year\"},\"rangeselector\":{\"buttons\":[{\"count\":1}]},\"range\":[\"1988\",\"2020\"]},\"autosize\":true,\"width\":1000,\"height\":800,\"yaxis\":{\"title\":{\"text\":\"CO2 (million-tons)\"}}},                        {\"responsive\": true}                    ).then(function(){\n",
       "                            \n",
       "var gd = document.getElementById('0e305982-0fbf-40de-8439-78bdd27b08ad');\n",
       "var x = new MutationObserver(function (mutations, observer) {{\n",
       "        var display = window.getComputedStyle(gd).display;\n",
       "        if (!display || display === 'none') {{\n",
       "            console.log([gd, 'removed!']);\n",
       "            Plotly.purge(gd);\n",
       "            observer.disconnect();\n",
       "        }}\n",
       "}});\n",
       "\n",
       "// Listen for the removal of the full notebook cells\n",
       "var notebookContainer = gd.closest('#notebook-container');\n",
       "if (notebookContainer) {{\n",
       "    x.observe(notebookContainer, {childList: true});\n",
       "}}\n",
       "\n",
       "// Listen for the clearing of the current output cell\n",
       "var outputEl = gd.closest('.output');\n",
       "if (outputEl) {{\n",
       "    x.observe(outputEl, {childList: true});\n",
       "}}\n",
       "\n",
       "                        })                };                });            </script>        </div>"
      ]
     },
     "metadata": {},
     "output_type": "display_data"
    }
   ],
   "source": [
    "# Generate a stylized plotly graph of the forecasted values of each country. Lots of customization is possible here. \n",
    "# I wanted to make each of the countries have the color of their nation's flag in the plot \n",
    "\n",
    "fig = go.Figure()\n",
    "fig.add_trace(go.Scatter(\n",
    "                mode='lines+markers',\n",
    "                name='China',\n",
    "                x=df.index[:],\n",
    "                y=df['China'],\n",
    "                line=dict(\n",
    "                    color='#DE2910',\n",
    "                    width=1.5),\n",
    "                marker=dict(\n",
    "                    color='#FFDE00',\n",
    "                    size=6.5,\n",
    "                    line=dict(\n",
    "                        color='#DE2910',\n",
    "                        width=1.2)),\n",
    "))\n",
    "fig.add_trace(go.Scatter(\n",
    "                mode='lines+markers',\n",
    "                name='United States',\n",
    "                x=df.index[:],\n",
    "                y=df['United States'],\n",
    "                line=dict(\n",
    "                    color='#3C3B6E',\n",
    "                    width=1.5),\n",
    "                marker=dict(\n",
    "                    color='#FFFFFF',\n",
    "                    size=6.5,\n",
    "                    line=dict(\n",
    "                        color='#B22234',\n",
    "                        width=1.2)),\n",
    "))\n",
    "fig.add_trace(go.Scatter(\n",
    "                mode='lines+markers',\n",
    "                name='India',\n",
    "                x=df.index[:],\n",
    "                y=df['India'],\n",
    "                line=dict(\n",
    "                    color='#FF9933',\n",
    "                    width=1.5),\n",
    "                marker=dict(\n",
    "                    color='#FFFFFF',\n",
    "                    size=6.5,\n",
    "                    line=dict(\n",
    "                        color='#138808',\n",
    "                        width=1.2)),\n",
    "))\n",
    "fig.add_trace(go.Scatter(\n",
    "                mode='lines+markers',\n",
    "                name='Russia',\n",
    "                x=df.index[:],\n",
    "                y=df['Russia'],\n",
    "                line=dict(\n",
    "                    color='#DA291C',\n",
    "                    width=1.5),\n",
    "                marker=dict(\n",
    "                    color='#FFFFFF',\n",
    "                    size=6.5,\n",
    "                    line=dict(\n",
    "                        color='#0033A0',\n",
    "                        width=1.2)),\n",
    "))\n",
    "fig.add_trace(go.Scatter(\n",
    "                mode='lines+markers',\n",
    "                name='Japan',\n",
    "                x=df.index[:],\n",
    "                y=df['Japan'],\n",
    "                line=dict(\n",
    "                    color='#BC002D',\n",
    "                    width=1.5),\n",
    "                marker=dict(\n",
    "                    color='#FFFFFF',\n",
    "                    size=6.5,\n",
    "                    line=dict(\n",
    "                        color='#BC002D',\n",
    "                        width=1.2)),\n",
    "))\n",
    "fig.add_trace(go.Scatter(\n",
    "                mode='lines+markers',\n",
    "                name='Iran',\n",
    "                x=df.index[:],\n",
    "                y=df['Iran'],\n",
    "                line=dict(\n",
    "                    color='#239F40',\n",
    "                    width=1.5),\n",
    "                marker=dict(\n",
    "                    color='#FFFFFF',\n",
    "                    size=6.5,\n",
    "                    line=dict(\n",
    "                        color='#DA0000',\n",
    "                        width=1.2)),\n",
    "))\n",
    "fig.add_trace(go.Scatter(\n",
    "                mode='lines+markers',\n",
    "                name='Germany',\n",
    "                x=df.index[:],\n",
    "                y=df['Germany'],\n",
    "                line=dict(\n",
    "                    color='#000000',\n",
    "                    width=1.5),\n",
    "                marker=dict(\n",
    "                    color='#FFCE00',\n",
    "                    size=6.5,\n",
    "                    line=dict(\n",
    "                        color='#DD0000',\n",
    "                        width=1.2)),\n",
    "))\n",
    "\n",
    "\n",
    "fig.update_layout(\n",
    "    template='seaborn',\n",
    "    autosize=True,\n",
    "    width=1000,\n",
    "    height=800,\n",
    "    title={'text':'Predicted CO2 Emissions','x':0.5},\n",
    "    xaxis_title='Year',\n",
    "    yaxis_title='CO2 (million-tons)',\n",
    "    legend_title={'text':'Countries','side':'top'},\n",
    "    font=dict(\n",
    "        family='Times New Roman',\n",
    "        size=14,\n",
    "    ),\n",
    "    xaxis=dict(\n",
    "       rangeselector=dict(\n",
    "           buttons=list([\n",
    "               dict(count=1),\n",
    "           ])\n",
    "       ),\n",
    "       rangeslider=dict(\n",
    "           visible=True\n",
    "       ),\n",
    "   )\n",
    ")\n",
    "\n",
    "initial_range = ['1988','2020']\n",
    "fig['layout']['xaxis'].update(range=initial_range)\n",
    "fig.show()"
   ]
  },
  {
   "cell_type": "code",
   "execution_count": 12,
   "id": "12f930a5",
   "metadata": {},
   "outputs": [],
   "source": [
    "# write the figure above to an HTML file\n",
    "fig.write_html('arima_forecast.html')"
   ]
  },
  {
   "cell_type": "code",
   "execution_count": null,
   "id": "ff63b4e5",
   "metadata": {},
   "outputs": [],
   "source": []
  }
 ],
 "metadata": {
  "kernelspec": {
   "display_name": "mlenv",
   "language": "python",
   "name": "mlenv"
  },
  "language_info": {
   "codemirror_mode": {
    "name": "ipython",
    "version": 3
   },
   "file_extension": ".py",
   "mimetype": "text/x-python",
   "name": "python",
   "nbconvert_exporter": "python",
   "pygments_lexer": "ipython3",
   "version": "3.7.11"
  }
 },
 "nbformat": 4,
 "nbformat_minor": 5
}
